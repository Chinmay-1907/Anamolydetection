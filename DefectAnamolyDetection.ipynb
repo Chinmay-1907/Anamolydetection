{
  "nbformat": 4,
  "nbformat_minor": 0,
  "metadata": {
    "colab": {
      "provenance": [],
      "gpuType": "T4",
      "include_colab_link": true
    },
    "kernelspec": {
      "name": "python3",
      "display_name": "Python 3"
    },
    "language_info": {
      "name": "python"
    },
    "accelerator": "GPU"
  },
  "cells": [
    {
      "cell_type": "markdown",
      "metadata": {
        "id": "view-in-github",
        "colab_type": "text"
      },
      "source": [
        "<a href=\"https://colab.research.google.com/github/Chinmay-1907/Anamolydetection/blob/main/DefectAnamolyDetection.ipynb\" target=\"_parent\"><img src=\"https://colab.research.google.com/assets/colab-badge.svg\" alt=\"Open In Colab\"/></a>"
      ]
    },
    {
      "cell_type": "code",
      "source": [
        "#Loading all nessesary Libraries and Frameworks\n",
        "import pandas as pd\n",
        "import numpy as np\n",
        "\n",
        "#EDA\n",
        "import matplotlib.pyplot as plt\n",
        "import seaborn as sns\n",
        "\n",
        "#Scale\n",
        "from sklearn.preprocessing import StandardScaler\n"
      ],
      "metadata": {
        "id": "sjEkIXp8TzDp"
      },
      "execution_count": null,
      "outputs": []
    },
    {
      "cell_type": "markdown",
      "source": [
        "#🧩 Data Loading & Initial Exploration\n"
      ],
      "metadata": {
        "id": "cNJZnAs_TgjA"
      }
    },
    {
      "cell_type": "code",
      "execution_count": null,
      "metadata": {
        "colab": {
          "base_uri": "https://localhost:8080/",
          "height": 329
        },
        "id": "iJhHHshoRTKk",
        "outputId": "93acf88b-cc0f-42af-cbc0-3ac47e6ec91d"
      },
      "outputs": [
        {
          "output_type": "error",
          "ename": "FileNotFoundError",
          "evalue": "[Errno 2] No such file or directory: 'Defect Data V3 - output.csv'",
          "traceback": [
            "\u001b[0;31m---------------------------------------------------------------------------\u001b[0m",
            "\u001b[0;31mFileNotFoundError\u001b[0m                         Traceback (most recent call last)",
            "\u001b[0;32m<ipython-input-2-da7772b651b0>\u001b[0m in \u001b[0;36m<cell line: 0>\u001b[0;34m()\u001b[0m\n\u001b[0;32m----> 1\u001b[0;31m \u001b[0mdf\u001b[0m \u001b[0;34m=\u001b[0m \u001b[0mpd\u001b[0m\u001b[0;34m.\u001b[0m\u001b[0mread_csv\u001b[0m\u001b[0;34m(\u001b[0m\u001b[0;34m\"Defect Data V3 - output.csv\"\u001b[0m\u001b[0;34m)\u001b[0m  \u001b[0;31m# replace with actual file path\u001b[0m\u001b[0;34m\u001b[0m\u001b[0;34m\u001b[0m\u001b[0m\n\u001b[0m\u001b[1;32m      2\u001b[0m \u001b[0mdf\u001b[0m\u001b[0;34m.\u001b[0m\u001b[0mshape\u001b[0m\u001b[0;34m\u001b[0m\u001b[0;34m\u001b[0m\u001b[0m\n",
            "\u001b[0;32m/usr/local/lib/python3.11/dist-packages/pandas/io/parsers/readers.py\u001b[0m in \u001b[0;36mread_csv\u001b[0;34m(filepath_or_buffer, sep, delimiter, header, names, index_col, usecols, dtype, engine, converters, true_values, false_values, skipinitialspace, skiprows, skipfooter, nrows, na_values, keep_default_na, na_filter, verbose, skip_blank_lines, parse_dates, infer_datetime_format, keep_date_col, date_parser, date_format, dayfirst, cache_dates, iterator, chunksize, compression, thousands, decimal, lineterminator, quotechar, quoting, doublequote, escapechar, comment, encoding, encoding_errors, dialect, on_bad_lines, delim_whitespace, low_memory, memory_map, float_precision, storage_options, dtype_backend)\u001b[0m\n\u001b[1;32m   1024\u001b[0m     \u001b[0mkwds\u001b[0m\u001b[0;34m.\u001b[0m\u001b[0mupdate\u001b[0m\u001b[0;34m(\u001b[0m\u001b[0mkwds_defaults\u001b[0m\u001b[0;34m)\u001b[0m\u001b[0;34m\u001b[0m\u001b[0;34m\u001b[0m\u001b[0m\n\u001b[1;32m   1025\u001b[0m \u001b[0;34m\u001b[0m\u001b[0m\n\u001b[0;32m-> 1026\u001b[0;31m     \u001b[0;32mreturn\u001b[0m \u001b[0m_read\u001b[0m\u001b[0;34m(\u001b[0m\u001b[0mfilepath_or_buffer\u001b[0m\u001b[0;34m,\u001b[0m \u001b[0mkwds\u001b[0m\u001b[0;34m)\u001b[0m\u001b[0;34m\u001b[0m\u001b[0;34m\u001b[0m\u001b[0m\n\u001b[0m\u001b[1;32m   1027\u001b[0m \u001b[0;34m\u001b[0m\u001b[0m\n\u001b[1;32m   1028\u001b[0m \u001b[0;34m\u001b[0m\u001b[0m\n",
            "\u001b[0;32m/usr/local/lib/python3.11/dist-packages/pandas/io/parsers/readers.py\u001b[0m in \u001b[0;36m_read\u001b[0;34m(filepath_or_buffer, kwds)\u001b[0m\n\u001b[1;32m    618\u001b[0m \u001b[0;34m\u001b[0m\u001b[0m\n\u001b[1;32m    619\u001b[0m     \u001b[0;31m# Create the parser.\u001b[0m\u001b[0;34m\u001b[0m\u001b[0;34m\u001b[0m\u001b[0m\n\u001b[0;32m--> 620\u001b[0;31m     \u001b[0mparser\u001b[0m \u001b[0;34m=\u001b[0m \u001b[0mTextFileReader\u001b[0m\u001b[0;34m(\u001b[0m\u001b[0mfilepath_or_buffer\u001b[0m\u001b[0;34m,\u001b[0m \u001b[0;34m**\u001b[0m\u001b[0mkwds\u001b[0m\u001b[0;34m)\u001b[0m\u001b[0;34m\u001b[0m\u001b[0;34m\u001b[0m\u001b[0m\n\u001b[0m\u001b[1;32m    621\u001b[0m \u001b[0;34m\u001b[0m\u001b[0m\n\u001b[1;32m    622\u001b[0m     \u001b[0;32mif\u001b[0m \u001b[0mchunksize\u001b[0m \u001b[0;32mor\u001b[0m \u001b[0miterator\u001b[0m\u001b[0;34m:\u001b[0m\u001b[0;34m\u001b[0m\u001b[0;34m\u001b[0m\u001b[0m\n",
            "\u001b[0;32m/usr/local/lib/python3.11/dist-packages/pandas/io/parsers/readers.py\u001b[0m in \u001b[0;36m__init__\u001b[0;34m(self, f, engine, **kwds)\u001b[0m\n\u001b[1;32m   1618\u001b[0m \u001b[0;34m\u001b[0m\u001b[0m\n\u001b[1;32m   1619\u001b[0m         \u001b[0mself\u001b[0m\u001b[0;34m.\u001b[0m\u001b[0mhandles\u001b[0m\u001b[0;34m:\u001b[0m \u001b[0mIOHandles\u001b[0m \u001b[0;34m|\u001b[0m \u001b[0;32mNone\u001b[0m \u001b[0;34m=\u001b[0m \u001b[0;32mNone\u001b[0m\u001b[0;34m\u001b[0m\u001b[0;34m\u001b[0m\u001b[0m\n\u001b[0;32m-> 1620\u001b[0;31m         \u001b[0mself\u001b[0m\u001b[0;34m.\u001b[0m\u001b[0m_engine\u001b[0m \u001b[0;34m=\u001b[0m \u001b[0mself\u001b[0m\u001b[0;34m.\u001b[0m\u001b[0m_make_engine\u001b[0m\u001b[0;34m(\u001b[0m\u001b[0mf\u001b[0m\u001b[0;34m,\u001b[0m \u001b[0mself\u001b[0m\u001b[0;34m.\u001b[0m\u001b[0mengine\u001b[0m\u001b[0;34m)\u001b[0m\u001b[0;34m\u001b[0m\u001b[0;34m\u001b[0m\u001b[0m\n\u001b[0m\u001b[1;32m   1621\u001b[0m \u001b[0;34m\u001b[0m\u001b[0m\n\u001b[1;32m   1622\u001b[0m     \u001b[0;32mdef\u001b[0m \u001b[0mclose\u001b[0m\u001b[0;34m(\u001b[0m\u001b[0mself\u001b[0m\u001b[0;34m)\u001b[0m \u001b[0;34m->\u001b[0m \u001b[0;32mNone\u001b[0m\u001b[0;34m:\u001b[0m\u001b[0;34m\u001b[0m\u001b[0;34m\u001b[0m\u001b[0m\n",
            "\u001b[0;32m/usr/local/lib/python3.11/dist-packages/pandas/io/parsers/readers.py\u001b[0m in \u001b[0;36m_make_engine\u001b[0;34m(self, f, engine)\u001b[0m\n\u001b[1;32m   1878\u001b[0m                 \u001b[0;32mif\u001b[0m \u001b[0;34m\"b\"\u001b[0m \u001b[0;32mnot\u001b[0m \u001b[0;32min\u001b[0m \u001b[0mmode\u001b[0m\u001b[0;34m:\u001b[0m\u001b[0;34m\u001b[0m\u001b[0;34m\u001b[0m\u001b[0m\n\u001b[1;32m   1879\u001b[0m                     \u001b[0mmode\u001b[0m \u001b[0;34m+=\u001b[0m \u001b[0;34m\"b\"\u001b[0m\u001b[0;34m\u001b[0m\u001b[0;34m\u001b[0m\u001b[0m\n\u001b[0;32m-> 1880\u001b[0;31m             self.handles = get_handle(\n\u001b[0m\u001b[1;32m   1881\u001b[0m                 \u001b[0mf\u001b[0m\u001b[0;34m,\u001b[0m\u001b[0;34m\u001b[0m\u001b[0;34m\u001b[0m\u001b[0m\n\u001b[1;32m   1882\u001b[0m                 \u001b[0mmode\u001b[0m\u001b[0;34m,\u001b[0m\u001b[0;34m\u001b[0m\u001b[0;34m\u001b[0m\u001b[0m\n",
            "\u001b[0;32m/usr/local/lib/python3.11/dist-packages/pandas/io/common.py\u001b[0m in \u001b[0;36mget_handle\u001b[0;34m(path_or_buf, mode, encoding, compression, memory_map, is_text, errors, storage_options)\u001b[0m\n\u001b[1;32m    871\u001b[0m         \u001b[0;32mif\u001b[0m \u001b[0mioargs\u001b[0m\u001b[0;34m.\u001b[0m\u001b[0mencoding\u001b[0m \u001b[0;32mand\u001b[0m \u001b[0;34m\"b\"\u001b[0m \u001b[0;32mnot\u001b[0m \u001b[0;32min\u001b[0m \u001b[0mioargs\u001b[0m\u001b[0;34m.\u001b[0m\u001b[0mmode\u001b[0m\u001b[0;34m:\u001b[0m\u001b[0;34m\u001b[0m\u001b[0;34m\u001b[0m\u001b[0m\n\u001b[1;32m    872\u001b[0m             \u001b[0;31m# Encoding\u001b[0m\u001b[0;34m\u001b[0m\u001b[0;34m\u001b[0m\u001b[0m\n\u001b[0;32m--> 873\u001b[0;31m             handle = open(\n\u001b[0m\u001b[1;32m    874\u001b[0m                 \u001b[0mhandle\u001b[0m\u001b[0;34m,\u001b[0m\u001b[0;34m\u001b[0m\u001b[0;34m\u001b[0m\u001b[0m\n\u001b[1;32m    875\u001b[0m                 \u001b[0mioargs\u001b[0m\u001b[0;34m.\u001b[0m\u001b[0mmode\u001b[0m\u001b[0;34m,\u001b[0m\u001b[0;34m\u001b[0m\u001b[0;34m\u001b[0m\u001b[0m\n",
            "\u001b[0;31mFileNotFoundError\u001b[0m: [Errno 2] No such file or directory: 'Defect Data V3 - output.csv'"
          ]
        }
      ],
      "source": [
        "df = pd.read_csv(\"Defect Data V3 - output.csv\")  # replace with actual file path\n",
        "df.shape"
      ]
    },
    {
      "cell_type": "code",
      "source": [
        "df.head()"
      ],
      "metadata": {
        "colab": {
          "base_uri": "https://localhost:8080/",
          "height": 255
        },
        "id": "4hvjjvpATuOF",
        "outputId": "ad9a2061-d09e-40fb-be02-2239bac32beb"
      },
      "execution_count": null,
      "outputs": [
        {
          "output_type": "execute_result",
          "data": {
            "text/plain": [
              "      timestamp  @010CycDataLck\\StrCsh2CfrEnd\\CycVal_PdeValue  ActStrCsh[1]  \\\n",
              "0  1.743107e+09                                           0.1           0.3   \n",
              "1  1.743107e+09                                           0.1           0.3   \n",
              "2  1.743107e+09                                           0.1           0.3   \n",
              "3  1.743107e+09                                           0.1           0.3   \n",
              "4  1.743107e+09                                           0.1           0.3   \n",
              "\n",
              "   @010CycDataInj1\\CycPlstStr\\CycVal_PdeValue  @010EgyMidValPeriAuto_MidVal  \\\n",
              "0                                         7.9                         0.024   \n",
              "1                                         7.9                         0.024   \n",
              "2                                         7.9                         0.024   \n",
              "3                                         7.9                         0.024   \n",
              "4                                         7.8                         0.024   \n",
              "\n",
              "   @010Plst1Prf\\Cp1\\Fce_Data  @010Inj1_ScrVelAct  \\\n",
              "0                        133                -0.0   \n",
              "1                        133                -0.0   \n",
              "2                        133                -0.0   \n",
              "3                        133                -0.0   \n",
              "4                        133                 0.3   \n",
              "\n",
              "   @020Inj1T3\\CycDataTmpZone\\CycVal_PdeValue  @010Plst1DcmpPara_PlstStrEndSet  \\\n",
              "0                                        500                              6.7   \n",
              "1                                        500                              6.7   \n",
              "2                                        500                              6.7   \n",
              "3                                        500                              6.7   \n",
              "4                                        500                              6.7   \n",
              "\n",
              "   @255InjectionUnit_1_PlastificationVolume  ...  \\\n",
              "0                                    137.63  ...   \n",
              "1                                    137.63  ...   \n",
              "2                                    137.63  ...   \n",
              "3                                    137.63  ...   \n",
              "4                                    137.49  ...   \n",
              "\n",
              "   @010CycDataInj1\\CycInjPrsMax\\CycVal_PdeValue  \\\n",
              "0                                         23410   \n",
              "1                                         23410   \n",
              "2                                         23410   \n",
              "3                                         23410   \n",
              "4                                         23415   \n",
              "\n",
              "   @010FastGraphic2System05\\PDEPeakY\\CycValPdeValue  \\\n",
              "0                                                 0   \n",
              "1                                                 0   \n",
              "2                                                 0   \n",
              "3                                                 0   \n",
              "4                                                 0   \n",
              "\n",
              "   @010FastGraphic2System05\\PDEArea\\CycValPdeValue  \\\n",
              "0                                                0   \n",
              "1                                                0   \n",
              "2                                                0   \n",
              "3                                                0   \n",
              "4                                                0   \n",
              "\n",
              "   @010FastGraphic2System06\\PDEPeakY\\CycValPdeValue  \\\n",
              "0                                                 0   \n",
              "1                                                 0   \n",
              "2                                                 0   \n",
              "3                                                 0   \n",
              "4                                                 0   \n",
              "\n",
              "   @010FastGraphic2System06\\PDEArea\\CycValPdeValue  @010EgyMidValMldHtgMidVal  \\\n",
              "0                                                0                      0.001   \n",
              "1                                                0                      0.001   \n",
              "2                                                0                      0.001   \n",
              "3                                                0                      0.001   \n",
              "4                                                0                      0.001   \n",
              "\n",
              "   present_prediction  label_detection_present_prediction  \\\n",
              "0                True                                True   \n",
              "1                True                                True   \n",
              "2                True                                True   \n",
              "3                True                                True   \n",
              "4                True                                True   \n",
              "\n",
              "   flash_defect_present_prediction  short_defect_present_prediction  \n",
              "0                            False                            False  \n",
              "1                            False                            False  \n",
              "2                            False                            False  \n",
              "3                            False                            False  \n",
              "4                            False                            False  \n",
              "\n",
              "[5 rows x 177 columns]"
            ],
            "text/html": [
              "\n",
              "  <div id=\"df-d6c12fc5-a186-4393-aa9b-ab5eeae6aa96\" class=\"colab-df-container\">\n",
              "    <div>\n",
              "<style scoped>\n",
              "    .dataframe tbody tr th:only-of-type {\n",
              "        vertical-align: middle;\n",
              "    }\n",
              "\n",
              "    .dataframe tbody tr th {\n",
              "        vertical-align: top;\n",
              "    }\n",
              "\n",
              "    .dataframe thead th {\n",
              "        text-align: right;\n",
              "    }\n",
              "</style>\n",
              "<table border=\"1\" class=\"dataframe\">\n",
              "  <thead>\n",
              "    <tr style=\"text-align: right;\">\n",
              "      <th></th>\n",
              "      <th>timestamp</th>\n",
              "      <th>@010CycDataLck\\StrCsh2CfrEnd\\CycVal_PdeValue</th>\n",
              "      <th>ActStrCsh[1]</th>\n",
              "      <th>@010CycDataInj1\\CycPlstStr\\CycVal_PdeValue</th>\n",
              "      <th>@010EgyMidValPeriAuto_MidVal</th>\n",
              "      <th>@010Plst1Prf\\Cp1\\Fce_Data</th>\n",
              "      <th>@010Inj1_ScrVelAct</th>\n",
              "      <th>@020Inj1T3\\CycDataTmpZone\\CycVal_PdeValue</th>\n",
              "      <th>@010Plst1DcmpPara_PlstStrEndSet</th>\n",
              "      <th>@255InjectionUnit_1_PlastificationVolume</th>\n",
              "      <th>...</th>\n",
              "      <th>@010CycDataInj1\\CycInjPrsMax\\CycVal_PdeValue</th>\n",
              "      <th>@010FastGraphic2System05\\PDEPeakY\\CycValPdeValue</th>\n",
              "      <th>@010FastGraphic2System05\\PDEArea\\CycValPdeValue</th>\n",
              "      <th>@010FastGraphic2System06\\PDEPeakY\\CycValPdeValue</th>\n",
              "      <th>@010FastGraphic2System06\\PDEArea\\CycValPdeValue</th>\n",
              "      <th>@010EgyMidValMldHtgMidVal</th>\n",
              "      <th>present_prediction</th>\n",
              "      <th>label_detection_present_prediction</th>\n",
              "      <th>flash_defect_present_prediction</th>\n",
              "      <th>short_defect_present_prediction</th>\n",
              "    </tr>\n",
              "  </thead>\n",
              "  <tbody>\n",
              "    <tr>\n",
              "      <th>0</th>\n",
              "      <td>1.743107e+09</td>\n",
              "      <td>0.1</td>\n",
              "      <td>0.3</td>\n",
              "      <td>7.9</td>\n",
              "      <td>0.024</td>\n",
              "      <td>133</td>\n",
              "      <td>-0.0</td>\n",
              "      <td>500</td>\n",
              "      <td>6.7</td>\n",
              "      <td>137.63</td>\n",
              "      <td>...</td>\n",
              "      <td>23410</td>\n",
              "      <td>0</td>\n",
              "      <td>0</td>\n",
              "      <td>0</td>\n",
              "      <td>0</td>\n",
              "      <td>0.001</td>\n",
              "      <td>True</td>\n",
              "      <td>True</td>\n",
              "      <td>False</td>\n",
              "      <td>False</td>\n",
              "    </tr>\n",
              "    <tr>\n",
              "      <th>1</th>\n",
              "      <td>1.743107e+09</td>\n",
              "      <td>0.1</td>\n",
              "      <td>0.3</td>\n",
              "      <td>7.9</td>\n",
              "      <td>0.024</td>\n",
              "      <td>133</td>\n",
              "      <td>-0.0</td>\n",
              "      <td>500</td>\n",
              "      <td>6.7</td>\n",
              "      <td>137.63</td>\n",
              "      <td>...</td>\n",
              "      <td>23410</td>\n",
              "      <td>0</td>\n",
              "      <td>0</td>\n",
              "      <td>0</td>\n",
              "      <td>0</td>\n",
              "      <td>0.001</td>\n",
              "      <td>True</td>\n",
              "      <td>True</td>\n",
              "      <td>False</td>\n",
              "      <td>False</td>\n",
              "    </tr>\n",
              "    <tr>\n",
              "      <th>2</th>\n",
              "      <td>1.743107e+09</td>\n",
              "      <td>0.1</td>\n",
              "      <td>0.3</td>\n",
              "      <td>7.9</td>\n",
              "      <td>0.024</td>\n",
              "      <td>133</td>\n",
              "      <td>-0.0</td>\n",
              "      <td>500</td>\n",
              "      <td>6.7</td>\n",
              "      <td>137.63</td>\n",
              "      <td>...</td>\n",
              "      <td>23410</td>\n",
              "      <td>0</td>\n",
              "      <td>0</td>\n",
              "      <td>0</td>\n",
              "      <td>0</td>\n",
              "      <td>0.001</td>\n",
              "      <td>True</td>\n",
              "      <td>True</td>\n",
              "      <td>False</td>\n",
              "      <td>False</td>\n",
              "    </tr>\n",
              "    <tr>\n",
              "      <th>3</th>\n",
              "      <td>1.743107e+09</td>\n",
              "      <td>0.1</td>\n",
              "      <td>0.3</td>\n",
              "      <td>7.9</td>\n",
              "      <td>0.024</td>\n",
              "      <td>133</td>\n",
              "      <td>-0.0</td>\n",
              "      <td>500</td>\n",
              "      <td>6.7</td>\n",
              "      <td>137.63</td>\n",
              "      <td>...</td>\n",
              "      <td>23410</td>\n",
              "      <td>0</td>\n",
              "      <td>0</td>\n",
              "      <td>0</td>\n",
              "      <td>0</td>\n",
              "      <td>0.001</td>\n",
              "      <td>True</td>\n",
              "      <td>True</td>\n",
              "      <td>False</td>\n",
              "      <td>False</td>\n",
              "    </tr>\n",
              "    <tr>\n",
              "      <th>4</th>\n",
              "      <td>1.743107e+09</td>\n",
              "      <td>0.1</td>\n",
              "      <td>0.3</td>\n",
              "      <td>7.8</td>\n",
              "      <td>0.024</td>\n",
              "      <td>133</td>\n",
              "      <td>0.3</td>\n",
              "      <td>500</td>\n",
              "      <td>6.7</td>\n",
              "      <td>137.49</td>\n",
              "      <td>...</td>\n",
              "      <td>23415</td>\n",
              "      <td>0</td>\n",
              "      <td>0</td>\n",
              "      <td>0</td>\n",
              "      <td>0</td>\n",
              "      <td>0.001</td>\n",
              "      <td>True</td>\n",
              "      <td>True</td>\n",
              "      <td>False</td>\n",
              "      <td>False</td>\n",
              "    </tr>\n",
              "  </tbody>\n",
              "</table>\n",
              "<p>5 rows × 177 columns</p>\n",
              "</div>\n",
              "    <div class=\"colab-df-buttons\">\n",
              "\n",
              "  <div class=\"colab-df-container\">\n",
              "    <button class=\"colab-df-convert\" onclick=\"convertToInteractive('df-d6c12fc5-a186-4393-aa9b-ab5eeae6aa96')\"\n",
              "            title=\"Convert this dataframe to an interactive table.\"\n",
              "            style=\"display:none;\">\n",
              "\n",
              "  <svg xmlns=\"http://www.w3.org/2000/svg\" height=\"24px\" viewBox=\"0 -960 960 960\">\n",
              "    <path d=\"M120-120v-720h720v720H120Zm60-500h600v-160H180v160Zm220 220h160v-160H400v160Zm0 220h160v-160H400v160ZM180-400h160v-160H180v160Zm440 0h160v-160H620v160ZM180-180h160v-160H180v160Zm440 0h160v-160H620v160Z\"/>\n",
              "  </svg>\n",
              "    </button>\n",
              "\n",
              "  <style>\n",
              "    .colab-df-container {\n",
              "      display:flex;\n",
              "      gap: 12px;\n",
              "    }\n",
              "\n",
              "    .colab-df-convert {\n",
              "      background-color: #E8F0FE;\n",
              "      border: none;\n",
              "      border-radius: 50%;\n",
              "      cursor: pointer;\n",
              "      display: none;\n",
              "      fill: #1967D2;\n",
              "      height: 32px;\n",
              "      padding: 0 0 0 0;\n",
              "      width: 32px;\n",
              "    }\n",
              "\n",
              "    .colab-df-convert:hover {\n",
              "      background-color: #E2EBFA;\n",
              "      box-shadow: 0px 1px 2px rgba(60, 64, 67, 0.3), 0px 1px 3px 1px rgba(60, 64, 67, 0.15);\n",
              "      fill: #174EA6;\n",
              "    }\n",
              "\n",
              "    .colab-df-buttons div {\n",
              "      margin-bottom: 4px;\n",
              "    }\n",
              "\n",
              "    [theme=dark] .colab-df-convert {\n",
              "      background-color: #3B4455;\n",
              "      fill: #D2E3FC;\n",
              "    }\n",
              "\n",
              "    [theme=dark] .colab-df-convert:hover {\n",
              "      background-color: #434B5C;\n",
              "      box-shadow: 0px 1px 3px 1px rgba(0, 0, 0, 0.15);\n",
              "      filter: drop-shadow(0px 1px 2px rgba(0, 0, 0, 0.3));\n",
              "      fill: #FFFFFF;\n",
              "    }\n",
              "  </style>\n",
              "\n",
              "    <script>\n",
              "      const buttonEl =\n",
              "        document.querySelector('#df-d6c12fc5-a186-4393-aa9b-ab5eeae6aa96 button.colab-df-convert');\n",
              "      buttonEl.style.display =\n",
              "        google.colab.kernel.accessAllowed ? 'block' : 'none';\n",
              "\n",
              "      async function convertToInteractive(key) {\n",
              "        const element = document.querySelector('#df-d6c12fc5-a186-4393-aa9b-ab5eeae6aa96');\n",
              "        const dataTable =\n",
              "          await google.colab.kernel.invokeFunction('convertToInteractive',\n",
              "                                                    [key], {});\n",
              "        if (!dataTable) return;\n",
              "\n",
              "        const docLinkHtml = 'Like what you see? Visit the ' +\n",
              "          '<a target=\"_blank\" href=https://colab.research.google.com/notebooks/data_table.ipynb>data table notebook</a>'\n",
              "          + ' to learn more about interactive tables.';\n",
              "        element.innerHTML = '';\n",
              "        dataTable['output_type'] = 'display_data';\n",
              "        await google.colab.output.renderOutput(dataTable, element);\n",
              "        const docLink = document.createElement('div');\n",
              "        docLink.innerHTML = docLinkHtml;\n",
              "        element.appendChild(docLink);\n",
              "      }\n",
              "    </script>\n",
              "  </div>\n",
              "\n",
              "\n",
              "<div id=\"df-37c2956e-ed4d-40f5-b86e-d99d61a18017\">\n",
              "  <button class=\"colab-df-quickchart\" onclick=\"quickchart('df-37c2956e-ed4d-40f5-b86e-d99d61a18017')\"\n",
              "            title=\"Suggest charts\"\n",
              "            style=\"display:none;\">\n",
              "\n",
              "<svg xmlns=\"http://www.w3.org/2000/svg\" height=\"24px\"viewBox=\"0 0 24 24\"\n",
              "     width=\"24px\">\n",
              "    <g>\n",
              "        <path d=\"M19 3H5c-1.1 0-2 .9-2 2v14c0 1.1.9 2 2 2h14c1.1 0 2-.9 2-2V5c0-1.1-.9-2-2-2zM9 17H7v-7h2v7zm4 0h-2V7h2v10zm4 0h-2v-4h2v4z\"/>\n",
              "    </g>\n",
              "</svg>\n",
              "  </button>\n",
              "\n",
              "<style>\n",
              "  .colab-df-quickchart {\n",
              "      --bg-color: #E8F0FE;\n",
              "      --fill-color: #1967D2;\n",
              "      --hover-bg-color: #E2EBFA;\n",
              "      --hover-fill-color: #174EA6;\n",
              "      --disabled-fill-color: #AAA;\n",
              "      --disabled-bg-color: #DDD;\n",
              "  }\n",
              "\n",
              "  [theme=dark] .colab-df-quickchart {\n",
              "      --bg-color: #3B4455;\n",
              "      --fill-color: #D2E3FC;\n",
              "      --hover-bg-color: #434B5C;\n",
              "      --hover-fill-color: #FFFFFF;\n",
              "      --disabled-bg-color: #3B4455;\n",
              "      --disabled-fill-color: #666;\n",
              "  }\n",
              "\n",
              "  .colab-df-quickchart {\n",
              "    background-color: var(--bg-color);\n",
              "    border: none;\n",
              "    border-radius: 50%;\n",
              "    cursor: pointer;\n",
              "    display: none;\n",
              "    fill: var(--fill-color);\n",
              "    height: 32px;\n",
              "    padding: 0;\n",
              "    width: 32px;\n",
              "  }\n",
              "\n",
              "  .colab-df-quickchart:hover {\n",
              "    background-color: var(--hover-bg-color);\n",
              "    box-shadow: 0 1px 2px rgba(60, 64, 67, 0.3), 0 1px 3px 1px rgba(60, 64, 67, 0.15);\n",
              "    fill: var(--button-hover-fill-color);\n",
              "  }\n",
              "\n",
              "  .colab-df-quickchart-complete:disabled,\n",
              "  .colab-df-quickchart-complete:disabled:hover {\n",
              "    background-color: var(--disabled-bg-color);\n",
              "    fill: var(--disabled-fill-color);\n",
              "    box-shadow: none;\n",
              "  }\n",
              "\n",
              "  .colab-df-spinner {\n",
              "    border: 2px solid var(--fill-color);\n",
              "    border-color: transparent;\n",
              "    border-bottom-color: var(--fill-color);\n",
              "    animation:\n",
              "      spin 1s steps(1) infinite;\n",
              "  }\n",
              "\n",
              "  @keyframes spin {\n",
              "    0% {\n",
              "      border-color: transparent;\n",
              "      border-bottom-color: var(--fill-color);\n",
              "      border-left-color: var(--fill-color);\n",
              "    }\n",
              "    20% {\n",
              "      border-color: transparent;\n",
              "      border-left-color: var(--fill-color);\n",
              "      border-top-color: var(--fill-color);\n",
              "    }\n",
              "    30% {\n",
              "      border-color: transparent;\n",
              "      border-left-color: var(--fill-color);\n",
              "      border-top-color: var(--fill-color);\n",
              "      border-right-color: var(--fill-color);\n",
              "    }\n",
              "    40% {\n",
              "      border-color: transparent;\n",
              "      border-right-color: var(--fill-color);\n",
              "      border-top-color: var(--fill-color);\n",
              "    }\n",
              "    60% {\n",
              "      border-color: transparent;\n",
              "      border-right-color: var(--fill-color);\n",
              "    }\n",
              "    80% {\n",
              "      border-color: transparent;\n",
              "      border-right-color: var(--fill-color);\n",
              "      border-bottom-color: var(--fill-color);\n",
              "    }\n",
              "    90% {\n",
              "      border-color: transparent;\n",
              "      border-bottom-color: var(--fill-color);\n",
              "    }\n",
              "  }\n",
              "</style>\n",
              "\n",
              "  <script>\n",
              "    async function quickchart(key) {\n",
              "      const quickchartButtonEl =\n",
              "        document.querySelector('#' + key + ' button');\n",
              "      quickchartButtonEl.disabled = true;  // To prevent multiple clicks.\n",
              "      quickchartButtonEl.classList.add('colab-df-spinner');\n",
              "      try {\n",
              "        const charts = await google.colab.kernel.invokeFunction(\n",
              "            'suggestCharts', [key], {});\n",
              "      } catch (error) {\n",
              "        console.error('Error during call to suggestCharts:', error);\n",
              "      }\n",
              "      quickchartButtonEl.classList.remove('colab-df-spinner');\n",
              "      quickchartButtonEl.classList.add('colab-df-quickchart-complete');\n",
              "    }\n",
              "    (() => {\n",
              "      let quickchartButtonEl =\n",
              "        document.querySelector('#df-37c2956e-ed4d-40f5-b86e-d99d61a18017 button');\n",
              "      quickchartButtonEl.style.display =\n",
              "        google.colab.kernel.accessAllowed ? 'block' : 'none';\n",
              "    })();\n",
              "  </script>\n",
              "</div>\n",
              "\n",
              "    </div>\n",
              "  </div>\n"
            ],
            "application/vnd.google.colaboratory.intrinsic+json": {
              "type": "dataframe",
              "variable_name": "df"
            }
          },
          "metadata": {},
          "execution_count": 3
        }
      ]
    },
    {
      "cell_type": "code",
      "source": [
        "df.describe()"
      ],
      "metadata": {
        "colab": {
          "base_uri": "https://localhost:8080/",
          "height": 349
        },
        "id": "v3gskqVJVsWV",
        "outputId": "1fede710-5683-4bd6-f180-8412f99c81e3"
      },
      "execution_count": null,
      "outputs": [
        {
          "output_type": "execute_result",
          "data": {
            "text/plain": [
              "          timestamp  @010CycDataLck\\StrCsh2CfrEnd\\CycVal_PdeValue  \\\n",
              "count  2.120000e+03                                   2120.000000   \n",
              "mean   1.743097e+09                                      0.038726   \n",
              "std    6.143415e+03                                      0.048724   \n",
              "min    1.743086e+09                                      0.000000   \n",
              "25%    1.743092e+09                                      0.000000   \n",
              "50%    1.743097e+09                                      0.000000   \n",
              "75%    1.743103e+09                                      0.100000   \n",
              "max    1.743107e+09                                      0.100000   \n",
              "\n",
              "       ActStrCsh[1]  @010CycDataInj1\\CycPlstStr\\CycVal_PdeValue  \\\n",
              "count   2120.000000                                 2120.000000   \n",
              "mean       0.317217                                    7.869057   \n",
              "std        0.092630                                    0.143623   \n",
              "min       -0.300000                                    6.000000   \n",
              "25%        0.300000                                    7.900000   \n",
              "50%        0.300000                                    7.900000   \n",
              "75%        0.300000                                    7.900000   \n",
              "max        2.300000                                    8.100000   \n",
              "\n",
              "       @010EgyMidValPeriAuto_MidVal  @010Plst1Prf\\Cp1\\Fce_Data  \\\n",
              "count                   2120.000000                     2120.0   \n",
              "mean                       0.023850                      133.0   \n",
              "std                        0.000472                        0.0   \n",
              "min                        0.023000                      133.0   \n",
              "25%                        0.024000                      133.0   \n",
              "50%                        0.024000                      133.0   \n",
              "75%                        0.024000                      133.0   \n",
              "max                        0.026000                      133.0   \n",
              "\n",
              "       @010Inj1_ScrVelAct  @020Inj1T3\\CycDataTmpZone\\CycVal_PdeValue  \\\n",
              "count         2120.000000                                2120.000000   \n",
              "mean             0.750519                                 499.541038   \n",
              "std              1.060474                                   2.794388   \n",
              "min             -0.500000                                 488.000000   \n",
              "25%              0.000000                                 500.000000   \n",
              "50%              0.700000                                 500.000000   \n",
              "75%              1.000000                                 500.000000   \n",
              "max              6.900000                                 523.000000   \n",
              "\n",
              "       @010Plst1DcmpPara_PlstStrEndSet  \\\n",
              "count                      2120.000000   \n",
              "mean                          6.734481   \n",
              "std                           0.161706   \n",
              "min                           4.500000   \n",
              "25%                           6.700000   \n",
              "50%                           6.800000   \n",
              "75%                           6.800000   \n",
              "max                           6.800000   \n",
              "\n",
              "       @255InjectionUnit_1_PlastificationVolume  ...  \\\n",
              "count                               2120.000000  ...   \n",
              "mean                                 137.959061  ...   \n",
              "std                                    2.438632  ...   \n",
              "min                                  105.310000  ...   \n",
              "25%                                  137.650000  ...   \n",
              "50%                                  138.310000  ...   \n",
              "75%                                  138.720000  ...   \n",
              "max                                  141.150000  ...   \n",
              "\n",
              "       @010CycDataMld\\CycDemold\\CycVal_PdeValue  @010Hld1Prf\\Cp1\\Fce_Data  \\\n",
              "count                               2120.000000                    2120.0   \n",
              "mean                                   5.179906                     999.0   \n",
              "std                                    0.152626                       0.0   \n",
              "min                                    3.410000                     999.0   \n",
              "25%                                    5.160000                     999.0   \n",
              "50%                                    5.190000                     999.0   \n",
              "75%                                    5.210000                     999.0   \n",
              "max                                    8.110000                     999.0   \n",
              "\n",
              "       @010Inj1CalcCpty_InjCpty  @010EgyMidValMldHtg.MidVal  \\\n",
              "count               2120.000000                2.120000e+03   \n",
              "mean                   7.970317                1.000000e-03   \n",
              "std                   33.033395                5.769316e-17   \n",
              "min                    0.000000                1.000000e-03   \n",
              "25%                    0.000000                1.000000e-03   \n",
              "50%                    0.000000                1.000000e-03   \n",
              "75%                    0.000000                1.000000e-03   \n",
              "max                  192.660000                1.000000e-03   \n",
              "\n",
              "       @010CycDataInj1\\CycInjPrsMax\\CycVal_PdeValue  \\\n",
              "count                                   2120.000000   \n",
              "mean                                   23399.789151   \n",
              "std                                      383.250696   \n",
              "min                                    17624.000000   \n",
              "25%                                    23420.000000   \n",
              "50%                                    23445.000000   \n",
              "75%                                    23475.000000   \n",
              "max                                    24370.000000   \n",
              "\n",
              "       @010FastGraphic2System05\\PDEPeakY\\CycValPdeValue  \\\n",
              "count                                            2120.0   \n",
              "mean                                                0.0   \n",
              "std                                                 0.0   \n",
              "min                                                 0.0   \n",
              "25%                                                 0.0   \n",
              "50%                                                 0.0   \n",
              "75%                                                 0.0   \n",
              "max                                                 0.0   \n",
              "\n",
              "       @010FastGraphic2System05\\PDEArea\\CycValPdeValue  \\\n",
              "count                                           2120.0   \n",
              "mean                                               0.0   \n",
              "std                                                0.0   \n",
              "min                                                0.0   \n",
              "25%                                                0.0   \n",
              "50%                                                0.0   \n",
              "75%                                                0.0   \n",
              "max                                                0.0   \n",
              "\n",
              "       @010FastGraphic2System06\\PDEPeakY\\CycValPdeValue  \\\n",
              "count                                            2120.0   \n",
              "mean                                                0.0   \n",
              "std                                                 0.0   \n",
              "min                                                 0.0   \n",
              "25%                                                 0.0   \n",
              "50%                                                 0.0   \n",
              "75%                                                 0.0   \n",
              "max                                                 0.0   \n",
              "\n",
              "       @010FastGraphic2System06\\PDEArea\\CycValPdeValue  \\\n",
              "count                                           2120.0   \n",
              "mean                                               0.0   \n",
              "std                                                0.0   \n",
              "min                                                0.0   \n",
              "25%                                                0.0   \n",
              "50%                                                0.0   \n",
              "75%                                                0.0   \n",
              "max                                                0.0   \n",
              "\n",
              "       @010EgyMidValMldHtgMidVal  \n",
              "count               2.120000e+03  \n",
              "mean                1.000000e-03  \n",
              "std                 5.769316e-17  \n",
              "min                 1.000000e-03  \n",
              "25%                 1.000000e-03  \n",
              "50%                 1.000000e-03  \n",
              "75%                 1.000000e-03  \n",
              "max                 1.000000e-03  \n",
              "\n",
              "[8 rows x 172 columns]"
            ],
            "text/html": [
              "\n",
              "  <div id=\"df-1435e208-5e23-4604-a493-83a8536ee795\" class=\"colab-df-container\">\n",
              "    <div>\n",
              "<style scoped>\n",
              "    .dataframe tbody tr th:only-of-type {\n",
              "        vertical-align: middle;\n",
              "    }\n",
              "\n",
              "    .dataframe tbody tr th {\n",
              "        vertical-align: top;\n",
              "    }\n",
              "\n",
              "    .dataframe thead th {\n",
              "        text-align: right;\n",
              "    }\n",
              "</style>\n",
              "<table border=\"1\" class=\"dataframe\">\n",
              "  <thead>\n",
              "    <tr style=\"text-align: right;\">\n",
              "      <th></th>\n",
              "      <th>timestamp</th>\n",
              "      <th>@010CycDataLck\\StrCsh2CfrEnd\\CycVal_PdeValue</th>\n",
              "      <th>ActStrCsh[1]</th>\n",
              "      <th>@010CycDataInj1\\CycPlstStr\\CycVal_PdeValue</th>\n",
              "      <th>@010EgyMidValPeriAuto_MidVal</th>\n",
              "      <th>@010Plst1Prf\\Cp1\\Fce_Data</th>\n",
              "      <th>@010Inj1_ScrVelAct</th>\n",
              "      <th>@020Inj1T3\\CycDataTmpZone\\CycVal_PdeValue</th>\n",
              "      <th>@010Plst1DcmpPara_PlstStrEndSet</th>\n",
              "      <th>@255InjectionUnit_1_PlastificationVolume</th>\n",
              "      <th>...</th>\n",
              "      <th>@010CycDataMld\\CycDemold\\CycVal_PdeValue</th>\n",
              "      <th>@010Hld1Prf\\Cp1\\Fce_Data</th>\n",
              "      <th>@010Inj1CalcCpty_InjCpty</th>\n",
              "      <th>@010EgyMidValMldHtg.MidVal</th>\n",
              "      <th>@010CycDataInj1\\CycInjPrsMax\\CycVal_PdeValue</th>\n",
              "      <th>@010FastGraphic2System05\\PDEPeakY\\CycValPdeValue</th>\n",
              "      <th>@010FastGraphic2System05\\PDEArea\\CycValPdeValue</th>\n",
              "      <th>@010FastGraphic2System06\\PDEPeakY\\CycValPdeValue</th>\n",
              "      <th>@010FastGraphic2System06\\PDEArea\\CycValPdeValue</th>\n",
              "      <th>@010EgyMidValMldHtgMidVal</th>\n",
              "    </tr>\n",
              "  </thead>\n",
              "  <tbody>\n",
              "    <tr>\n",
              "      <th>count</th>\n",
              "      <td>2.120000e+03</td>\n",
              "      <td>2120.000000</td>\n",
              "      <td>2120.000000</td>\n",
              "      <td>2120.000000</td>\n",
              "      <td>2120.000000</td>\n",
              "      <td>2120.0</td>\n",
              "      <td>2120.000000</td>\n",
              "      <td>2120.000000</td>\n",
              "      <td>2120.000000</td>\n",
              "      <td>2120.000000</td>\n",
              "      <td>...</td>\n",
              "      <td>2120.000000</td>\n",
              "      <td>2120.0</td>\n",
              "      <td>2120.000000</td>\n",
              "      <td>2.120000e+03</td>\n",
              "      <td>2120.000000</td>\n",
              "      <td>2120.0</td>\n",
              "      <td>2120.0</td>\n",
              "      <td>2120.0</td>\n",
              "      <td>2120.0</td>\n",
              "      <td>2.120000e+03</td>\n",
              "    </tr>\n",
              "    <tr>\n",
              "      <th>mean</th>\n",
              "      <td>1.743097e+09</td>\n",
              "      <td>0.038726</td>\n",
              "      <td>0.317217</td>\n",
              "      <td>7.869057</td>\n",
              "      <td>0.023850</td>\n",
              "      <td>133.0</td>\n",
              "      <td>0.750519</td>\n",
              "      <td>499.541038</td>\n",
              "      <td>6.734481</td>\n",
              "      <td>137.959061</td>\n",
              "      <td>...</td>\n",
              "      <td>5.179906</td>\n",
              "      <td>999.0</td>\n",
              "      <td>7.970317</td>\n",
              "      <td>1.000000e-03</td>\n",
              "      <td>23399.789151</td>\n",
              "      <td>0.0</td>\n",
              "      <td>0.0</td>\n",
              "      <td>0.0</td>\n",
              "      <td>0.0</td>\n",
              "      <td>1.000000e-03</td>\n",
              "    </tr>\n",
              "    <tr>\n",
              "      <th>std</th>\n",
              "      <td>6.143415e+03</td>\n",
              "      <td>0.048724</td>\n",
              "      <td>0.092630</td>\n",
              "      <td>0.143623</td>\n",
              "      <td>0.000472</td>\n",
              "      <td>0.0</td>\n",
              "      <td>1.060474</td>\n",
              "      <td>2.794388</td>\n",
              "      <td>0.161706</td>\n",
              "      <td>2.438632</td>\n",
              "      <td>...</td>\n",
              "      <td>0.152626</td>\n",
              "      <td>0.0</td>\n",
              "      <td>33.033395</td>\n",
              "      <td>5.769316e-17</td>\n",
              "      <td>383.250696</td>\n",
              "      <td>0.0</td>\n",
              "      <td>0.0</td>\n",
              "      <td>0.0</td>\n",
              "      <td>0.0</td>\n",
              "      <td>5.769316e-17</td>\n",
              "    </tr>\n",
              "    <tr>\n",
              "      <th>min</th>\n",
              "      <td>1.743086e+09</td>\n",
              "      <td>0.000000</td>\n",
              "      <td>-0.300000</td>\n",
              "      <td>6.000000</td>\n",
              "      <td>0.023000</td>\n",
              "      <td>133.0</td>\n",
              "      <td>-0.500000</td>\n",
              "      <td>488.000000</td>\n",
              "      <td>4.500000</td>\n",
              "      <td>105.310000</td>\n",
              "      <td>...</td>\n",
              "      <td>3.410000</td>\n",
              "      <td>999.0</td>\n",
              "      <td>0.000000</td>\n",
              "      <td>1.000000e-03</td>\n",
              "      <td>17624.000000</td>\n",
              "      <td>0.0</td>\n",
              "      <td>0.0</td>\n",
              "      <td>0.0</td>\n",
              "      <td>0.0</td>\n",
              "      <td>1.000000e-03</td>\n",
              "    </tr>\n",
              "    <tr>\n",
              "      <th>25%</th>\n",
              "      <td>1.743092e+09</td>\n",
              "      <td>0.000000</td>\n",
              "      <td>0.300000</td>\n",
              "      <td>7.900000</td>\n",
              "      <td>0.024000</td>\n",
              "      <td>133.0</td>\n",
              "      <td>0.000000</td>\n",
              "      <td>500.000000</td>\n",
              "      <td>6.700000</td>\n",
              "      <td>137.650000</td>\n",
              "      <td>...</td>\n",
              "      <td>5.160000</td>\n",
              "      <td>999.0</td>\n",
              "      <td>0.000000</td>\n",
              "      <td>1.000000e-03</td>\n",
              "      <td>23420.000000</td>\n",
              "      <td>0.0</td>\n",
              "      <td>0.0</td>\n",
              "      <td>0.0</td>\n",
              "      <td>0.0</td>\n",
              "      <td>1.000000e-03</td>\n",
              "    </tr>\n",
              "    <tr>\n",
              "      <th>50%</th>\n",
              "      <td>1.743097e+09</td>\n",
              "      <td>0.000000</td>\n",
              "      <td>0.300000</td>\n",
              "      <td>7.900000</td>\n",
              "      <td>0.024000</td>\n",
              "      <td>133.0</td>\n",
              "      <td>0.700000</td>\n",
              "      <td>500.000000</td>\n",
              "      <td>6.800000</td>\n",
              "      <td>138.310000</td>\n",
              "      <td>...</td>\n",
              "      <td>5.190000</td>\n",
              "      <td>999.0</td>\n",
              "      <td>0.000000</td>\n",
              "      <td>1.000000e-03</td>\n",
              "      <td>23445.000000</td>\n",
              "      <td>0.0</td>\n",
              "      <td>0.0</td>\n",
              "      <td>0.0</td>\n",
              "      <td>0.0</td>\n",
              "      <td>1.000000e-03</td>\n",
              "    </tr>\n",
              "    <tr>\n",
              "      <th>75%</th>\n",
              "      <td>1.743103e+09</td>\n",
              "      <td>0.100000</td>\n",
              "      <td>0.300000</td>\n",
              "      <td>7.900000</td>\n",
              "      <td>0.024000</td>\n",
              "      <td>133.0</td>\n",
              "      <td>1.000000</td>\n",
              "      <td>500.000000</td>\n",
              "      <td>6.800000</td>\n",
              "      <td>138.720000</td>\n",
              "      <td>...</td>\n",
              "      <td>5.210000</td>\n",
              "      <td>999.0</td>\n",
              "      <td>0.000000</td>\n",
              "      <td>1.000000e-03</td>\n",
              "      <td>23475.000000</td>\n",
              "      <td>0.0</td>\n",
              "      <td>0.0</td>\n",
              "      <td>0.0</td>\n",
              "      <td>0.0</td>\n",
              "      <td>1.000000e-03</td>\n",
              "    </tr>\n",
              "    <tr>\n",
              "      <th>max</th>\n",
              "      <td>1.743107e+09</td>\n",
              "      <td>0.100000</td>\n",
              "      <td>2.300000</td>\n",
              "      <td>8.100000</td>\n",
              "      <td>0.026000</td>\n",
              "      <td>133.0</td>\n",
              "      <td>6.900000</td>\n",
              "      <td>523.000000</td>\n",
              "      <td>6.800000</td>\n",
              "      <td>141.150000</td>\n",
              "      <td>...</td>\n",
              "      <td>8.110000</td>\n",
              "      <td>999.0</td>\n",
              "      <td>192.660000</td>\n",
              "      <td>1.000000e-03</td>\n",
              "      <td>24370.000000</td>\n",
              "      <td>0.0</td>\n",
              "      <td>0.0</td>\n",
              "      <td>0.0</td>\n",
              "      <td>0.0</td>\n",
              "      <td>1.000000e-03</td>\n",
              "    </tr>\n",
              "  </tbody>\n",
              "</table>\n",
              "<p>8 rows × 172 columns</p>\n",
              "</div>\n",
              "    <div class=\"colab-df-buttons\">\n",
              "\n",
              "  <div class=\"colab-df-container\">\n",
              "    <button class=\"colab-df-convert\" onclick=\"convertToInteractive('df-1435e208-5e23-4604-a493-83a8536ee795')\"\n",
              "            title=\"Convert this dataframe to an interactive table.\"\n",
              "            style=\"display:none;\">\n",
              "\n",
              "  <svg xmlns=\"http://www.w3.org/2000/svg\" height=\"24px\" viewBox=\"0 -960 960 960\">\n",
              "    <path d=\"M120-120v-720h720v720H120Zm60-500h600v-160H180v160Zm220 220h160v-160H400v160Zm0 220h160v-160H400v160ZM180-400h160v-160H180v160Zm440 0h160v-160H620v160ZM180-180h160v-160H180v160Zm440 0h160v-160H620v160Z\"/>\n",
              "  </svg>\n",
              "    </button>\n",
              "\n",
              "  <style>\n",
              "    .colab-df-container {\n",
              "      display:flex;\n",
              "      gap: 12px;\n",
              "    }\n",
              "\n",
              "    .colab-df-convert {\n",
              "      background-color: #E8F0FE;\n",
              "      border: none;\n",
              "      border-radius: 50%;\n",
              "      cursor: pointer;\n",
              "      display: none;\n",
              "      fill: #1967D2;\n",
              "      height: 32px;\n",
              "      padding: 0 0 0 0;\n",
              "      width: 32px;\n",
              "    }\n",
              "\n",
              "    .colab-df-convert:hover {\n",
              "      background-color: #E2EBFA;\n",
              "      box-shadow: 0px 1px 2px rgba(60, 64, 67, 0.3), 0px 1px 3px 1px rgba(60, 64, 67, 0.15);\n",
              "      fill: #174EA6;\n",
              "    }\n",
              "\n",
              "    .colab-df-buttons div {\n",
              "      margin-bottom: 4px;\n",
              "    }\n",
              "\n",
              "    [theme=dark] .colab-df-convert {\n",
              "      background-color: #3B4455;\n",
              "      fill: #D2E3FC;\n",
              "    }\n",
              "\n",
              "    [theme=dark] .colab-df-convert:hover {\n",
              "      background-color: #434B5C;\n",
              "      box-shadow: 0px 1px 3px 1px rgba(0, 0, 0, 0.15);\n",
              "      filter: drop-shadow(0px 1px 2px rgba(0, 0, 0, 0.3));\n",
              "      fill: #FFFFFF;\n",
              "    }\n",
              "  </style>\n",
              "\n",
              "    <script>\n",
              "      const buttonEl =\n",
              "        document.querySelector('#df-1435e208-5e23-4604-a493-83a8536ee795 button.colab-df-convert');\n",
              "      buttonEl.style.display =\n",
              "        google.colab.kernel.accessAllowed ? 'block' : 'none';\n",
              "\n",
              "      async function convertToInteractive(key) {\n",
              "        const element = document.querySelector('#df-1435e208-5e23-4604-a493-83a8536ee795');\n",
              "        const dataTable =\n",
              "          await google.colab.kernel.invokeFunction('convertToInteractive',\n",
              "                                                    [key], {});\n",
              "        if (!dataTable) return;\n",
              "\n",
              "        const docLinkHtml = 'Like what you see? Visit the ' +\n",
              "          '<a target=\"_blank\" href=https://colab.research.google.com/notebooks/data_table.ipynb>data table notebook</a>'\n",
              "          + ' to learn more about interactive tables.';\n",
              "        element.innerHTML = '';\n",
              "        dataTable['output_type'] = 'display_data';\n",
              "        await google.colab.output.renderOutput(dataTable, element);\n",
              "        const docLink = document.createElement('div');\n",
              "        docLink.innerHTML = docLinkHtml;\n",
              "        element.appendChild(docLink);\n",
              "      }\n",
              "    </script>\n",
              "  </div>\n",
              "\n",
              "\n",
              "<div id=\"df-ed426d8b-830d-4380-9470-ccf0d14b98cc\">\n",
              "  <button class=\"colab-df-quickchart\" onclick=\"quickchart('df-ed426d8b-830d-4380-9470-ccf0d14b98cc')\"\n",
              "            title=\"Suggest charts\"\n",
              "            style=\"display:none;\">\n",
              "\n",
              "<svg xmlns=\"http://www.w3.org/2000/svg\" height=\"24px\"viewBox=\"0 0 24 24\"\n",
              "     width=\"24px\">\n",
              "    <g>\n",
              "        <path d=\"M19 3H5c-1.1 0-2 .9-2 2v14c0 1.1.9 2 2 2h14c1.1 0 2-.9 2-2V5c0-1.1-.9-2-2-2zM9 17H7v-7h2v7zm4 0h-2V7h2v10zm4 0h-2v-4h2v4z\"/>\n",
              "    </g>\n",
              "</svg>\n",
              "  </button>\n",
              "\n",
              "<style>\n",
              "  .colab-df-quickchart {\n",
              "      --bg-color: #E8F0FE;\n",
              "      --fill-color: #1967D2;\n",
              "      --hover-bg-color: #E2EBFA;\n",
              "      --hover-fill-color: #174EA6;\n",
              "      --disabled-fill-color: #AAA;\n",
              "      --disabled-bg-color: #DDD;\n",
              "  }\n",
              "\n",
              "  [theme=dark] .colab-df-quickchart {\n",
              "      --bg-color: #3B4455;\n",
              "      --fill-color: #D2E3FC;\n",
              "      --hover-bg-color: #434B5C;\n",
              "      --hover-fill-color: #FFFFFF;\n",
              "      --disabled-bg-color: #3B4455;\n",
              "      --disabled-fill-color: #666;\n",
              "  }\n",
              "\n",
              "  .colab-df-quickchart {\n",
              "    background-color: var(--bg-color);\n",
              "    border: none;\n",
              "    border-radius: 50%;\n",
              "    cursor: pointer;\n",
              "    display: none;\n",
              "    fill: var(--fill-color);\n",
              "    height: 32px;\n",
              "    padding: 0;\n",
              "    width: 32px;\n",
              "  }\n",
              "\n",
              "  .colab-df-quickchart:hover {\n",
              "    background-color: var(--hover-bg-color);\n",
              "    box-shadow: 0 1px 2px rgba(60, 64, 67, 0.3), 0 1px 3px 1px rgba(60, 64, 67, 0.15);\n",
              "    fill: var(--button-hover-fill-color);\n",
              "  }\n",
              "\n",
              "  .colab-df-quickchart-complete:disabled,\n",
              "  .colab-df-quickchart-complete:disabled:hover {\n",
              "    background-color: var(--disabled-bg-color);\n",
              "    fill: var(--disabled-fill-color);\n",
              "    box-shadow: none;\n",
              "  }\n",
              "\n",
              "  .colab-df-spinner {\n",
              "    border: 2px solid var(--fill-color);\n",
              "    border-color: transparent;\n",
              "    border-bottom-color: var(--fill-color);\n",
              "    animation:\n",
              "      spin 1s steps(1) infinite;\n",
              "  }\n",
              "\n",
              "  @keyframes spin {\n",
              "    0% {\n",
              "      border-color: transparent;\n",
              "      border-bottom-color: var(--fill-color);\n",
              "      border-left-color: var(--fill-color);\n",
              "    }\n",
              "    20% {\n",
              "      border-color: transparent;\n",
              "      border-left-color: var(--fill-color);\n",
              "      border-top-color: var(--fill-color);\n",
              "    }\n",
              "    30% {\n",
              "      border-color: transparent;\n",
              "      border-left-color: var(--fill-color);\n",
              "      border-top-color: var(--fill-color);\n",
              "      border-right-color: var(--fill-color);\n",
              "    }\n",
              "    40% {\n",
              "      border-color: transparent;\n",
              "      border-right-color: var(--fill-color);\n",
              "      border-top-color: var(--fill-color);\n",
              "    }\n",
              "    60% {\n",
              "      border-color: transparent;\n",
              "      border-right-color: var(--fill-color);\n",
              "    }\n",
              "    80% {\n",
              "      border-color: transparent;\n",
              "      border-right-color: var(--fill-color);\n",
              "      border-bottom-color: var(--fill-color);\n",
              "    }\n",
              "    90% {\n",
              "      border-color: transparent;\n",
              "      border-bottom-color: var(--fill-color);\n",
              "    }\n",
              "  }\n",
              "</style>\n",
              "\n",
              "  <script>\n",
              "    async function quickchart(key) {\n",
              "      const quickchartButtonEl =\n",
              "        document.querySelector('#' + key + ' button');\n",
              "      quickchartButtonEl.disabled = true;  // To prevent multiple clicks.\n",
              "      quickchartButtonEl.classList.add('colab-df-spinner');\n",
              "      try {\n",
              "        const charts = await google.colab.kernel.invokeFunction(\n",
              "            'suggestCharts', [key], {});\n",
              "      } catch (error) {\n",
              "        console.error('Error during call to suggestCharts:', error);\n",
              "      }\n",
              "      quickchartButtonEl.classList.remove('colab-df-spinner');\n",
              "      quickchartButtonEl.classList.add('colab-df-quickchart-complete');\n",
              "    }\n",
              "    (() => {\n",
              "      let quickchartButtonEl =\n",
              "        document.querySelector('#df-ed426d8b-830d-4380-9470-ccf0d14b98cc button');\n",
              "      quickchartButtonEl.style.display =\n",
              "        google.colab.kernel.accessAllowed ? 'block' : 'none';\n",
              "    })();\n",
              "  </script>\n",
              "</div>\n",
              "\n",
              "    </div>\n",
              "  </div>\n"
            ],
            "application/vnd.google.colaboratory.intrinsic+json": {
              "type": "dataframe"
            }
          },
          "metadata": {},
          "execution_count": 4
        }
      ]
    },
    {
      "cell_type": "code",
      "source": [
        "df.info()"
      ],
      "metadata": {
        "colab": {
          "base_uri": "https://localhost:8080/"
        },
        "id": "D1J-9fNPV1ul",
        "outputId": "7582cf17-daaf-436a-f554-cb7ab6245656"
      },
      "execution_count": null,
      "outputs": [
        {
          "output_type": "stream",
          "name": "stdout",
          "text": [
            "<class 'pandas.core.frame.DataFrame'>\n",
            "RangeIndex: 2120 entries, 0 to 2119\n",
            "Columns: 177 entries, timestamp to short_defect_present_prediction\n",
            "dtypes: bool(4), float64(101), int64(71), object(1)\n",
            "memory usage: 2.8+ MB\n"
          ]
        }
      ]
    },
    {
      "cell_type": "code",
      "source": [
        "target_col = 'short_defect_present_prediction'\n",
        "cols_dropped = ['timestamp', target_col]"
      ],
      "metadata": {
        "id": "ttwzNZscT_B6"
      },
      "execution_count": null,
      "outputs": []
    },
    {
      "cell_type": "code",
      "source": [
        "X = df.drop(columns=cols_dropped, errors='ignore')\n",
        "y = df[target_col]  # Target label"
      ],
      "metadata": {
        "id": "UbYsFcqbUkGX"
      },
      "execution_count": null,
      "outputs": []
    },
    {
      "cell_type": "code",
      "source": [
        "print(\"Target class counts:\")\n",
        "y.value_counts()"
      ],
      "metadata": {
        "colab": {
          "base_uri": "https://localhost:8080/",
          "height": 195
        },
        "id": "SGTkShy4Uy_2",
        "outputId": "505c53e1-3575-4a50-b1a2-2f4345f4e3fb"
      },
      "execution_count": null,
      "outputs": [
        {
          "output_type": "stream",
          "name": "stdout",
          "text": [
            "Target class counts:\n"
          ]
        },
        {
          "output_type": "execute_result",
          "data": {
            "text/plain": [
              "short_defect_present_prediction\n",
              "False    2074\n",
              "True       46\n",
              "Name: count, dtype: int64"
            ],
            "text/html": [
              "<div>\n",
              "<style scoped>\n",
              "    .dataframe tbody tr th:only-of-type {\n",
              "        vertical-align: middle;\n",
              "    }\n",
              "\n",
              "    .dataframe tbody tr th {\n",
              "        vertical-align: top;\n",
              "    }\n",
              "\n",
              "    .dataframe thead th {\n",
              "        text-align: right;\n",
              "    }\n",
              "</style>\n",
              "<table border=\"1\" class=\"dataframe\">\n",
              "  <thead>\n",
              "    <tr style=\"text-align: right;\">\n",
              "      <th></th>\n",
              "      <th>count</th>\n",
              "    </tr>\n",
              "    <tr>\n",
              "      <th>short_defect_present_prediction</th>\n",
              "      <th></th>\n",
              "    </tr>\n",
              "  </thead>\n",
              "  <tbody>\n",
              "    <tr>\n",
              "      <th>False</th>\n",
              "      <td>2074</td>\n",
              "    </tr>\n",
              "    <tr>\n",
              "      <th>True</th>\n",
              "      <td>46</td>\n",
              "    </tr>\n",
              "  </tbody>\n",
              "</table>\n",
              "</div><br><label><b>dtype:</b> int64</label>"
            ]
          },
          "metadata": {},
          "execution_count": 8
        }
      ]
    },
    {
      "cell_type": "code",
      "source": [
        "print(\"Percentage of positives:\", round(y.mean() * 100, 3), \"%\")"
      ],
      "metadata": {
        "colab": {
          "base_uri": "https://localhost:8080/"
        },
        "id": "4ppD1-G3U7y8",
        "outputId": "563c130f-66ed-404a-e900-741e7f4e557d"
      },
      "execution_count": null,
      "outputs": [
        {
          "output_type": "stream",
          "name": "stdout",
          "text": [
            "Percentage of positives: 2.17 %\n"
          ]
        }
      ]
    },
    {
      "cell_type": "markdown",
      "source": [
        "#Data Cleaning & Preprocessing"
      ],
      "metadata": {
        "id": "qwGnPdRyVZwv"
      }
    },
    {
      "cell_type": "code",
      "source": [
        "X.isnull().sum().sort_values(ascending=False)"
      ],
      "metadata": {
        "id": "1EL9T3dIXvVg",
        "colab": {
          "base_uri": "https://localhost:8080/",
          "height": 458
        },
        "outputId": "73131418-3cd5-4b76-e324-5a7d27514449"
      },
      "execution_count": null,
      "outputs": [
        {
          "output_type": "execute_result",
          "data": {
            "text/plain": [
              "@010RecipeOperationsActDataRecord_Data             2120\n",
              "ActStrCsh[1]                                          0\n",
              "@010CycDataLck\\StrCsh2CfrEnd\\CycVal_PdeValue          0\n",
              "@010EgyMidValPeriAuto_MidVal                          0\n",
              "@010Plst1Prf\\Cp1\\Fce_Data                             0\n",
              "                                                   ... \n",
              "@010FastGraphic2System06\\PDEArea\\CycValPdeValue       0\n",
              "@010EgyMidValMldHtgMidVal                             0\n",
              "present_prediction                                    0\n",
              "label_detection_present_prediction                    0\n",
              "flash_defect_present_prediction                       0\n",
              "Length: 175, dtype: int64"
            ],
            "text/html": [
              "<div>\n",
              "<style scoped>\n",
              "    .dataframe tbody tr th:only-of-type {\n",
              "        vertical-align: middle;\n",
              "    }\n",
              "\n",
              "    .dataframe tbody tr th {\n",
              "        vertical-align: top;\n",
              "    }\n",
              "\n",
              "    .dataframe thead th {\n",
              "        text-align: right;\n",
              "    }\n",
              "</style>\n",
              "<table border=\"1\" class=\"dataframe\">\n",
              "  <thead>\n",
              "    <tr style=\"text-align: right;\">\n",
              "      <th></th>\n",
              "      <th>0</th>\n",
              "    </tr>\n",
              "  </thead>\n",
              "  <tbody>\n",
              "    <tr>\n",
              "      <th>@010RecipeOperationsActDataRecord_Data</th>\n",
              "      <td>2120</td>\n",
              "    </tr>\n",
              "    <tr>\n",
              "      <th>ActStrCsh[1]</th>\n",
              "      <td>0</td>\n",
              "    </tr>\n",
              "    <tr>\n",
              "      <th>@010CycDataLck\\StrCsh2CfrEnd\\CycVal_PdeValue</th>\n",
              "      <td>0</td>\n",
              "    </tr>\n",
              "    <tr>\n",
              "      <th>@010EgyMidValPeriAuto_MidVal</th>\n",
              "      <td>0</td>\n",
              "    </tr>\n",
              "    <tr>\n",
              "      <th>@010Plst1Prf\\Cp1\\Fce_Data</th>\n",
              "      <td>0</td>\n",
              "    </tr>\n",
              "    <tr>\n",
              "      <th>...</th>\n",
              "      <td>...</td>\n",
              "    </tr>\n",
              "    <tr>\n",
              "      <th>@010FastGraphic2System06\\PDEArea\\CycValPdeValue</th>\n",
              "      <td>0</td>\n",
              "    </tr>\n",
              "    <tr>\n",
              "      <th>@010EgyMidValMldHtgMidVal</th>\n",
              "      <td>0</td>\n",
              "    </tr>\n",
              "    <tr>\n",
              "      <th>present_prediction</th>\n",
              "      <td>0</td>\n",
              "    </tr>\n",
              "    <tr>\n",
              "      <th>label_detection_present_prediction</th>\n",
              "      <td>0</td>\n",
              "    </tr>\n",
              "    <tr>\n",
              "      <th>flash_defect_present_prediction</th>\n",
              "      <td>0</td>\n",
              "    </tr>\n",
              "  </tbody>\n",
              "</table>\n",
              "<p>175 rows × 1 columns</p>\n",
              "</div><br><label><b>dtype:</b> int64</label>"
            ]
          },
          "metadata": {},
          "execution_count": 10
        }
      ]
    },
    {
      "cell_type": "code",
      "source": [
        "X = X.dropna(axis=1, how='all')"
      ],
      "metadata": {
        "id": "2V6wvbo2VZZB"
      },
      "execution_count": null,
      "outputs": []
    },
    {
      "cell_type": "code",
      "source": [
        "X.shape[1]"
      ],
      "metadata": {
        "colab": {
          "base_uri": "https://localhost:8080/"
        },
        "id": "EHIv-7BrWCe-",
        "outputId": "fda11f37-eac7-40f9-98cc-fa4238c9cd53"
      },
      "execution_count": null,
      "outputs": [
        {
          "output_type": "execute_result",
          "data": {
            "text/plain": [
              "174"
            ]
          },
          "metadata": {},
          "execution_count": 12
        }
      ]
    },
    {
      "cell_type": "markdown",
      "source": [
        "#Encoding and Scaling"
      ],
      "metadata": {
        "id": "W3tnrXNHbmDa"
      }
    },
    {
      "cell_type": "code",
      "source": [
        "X.dtypes"
      ],
      "metadata": {
        "colab": {
          "base_uri": "https://localhost:8080/",
          "height": 458
        },
        "id": "F2lt9C1jZc1f",
        "outputId": "7a58230b-0f20-46a9-a4ca-b8b036e1a03f"
      },
      "execution_count": null,
      "outputs": [
        {
          "output_type": "execute_result",
          "data": {
            "text/plain": [
              "@010CycDataLck\\StrCsh2CfrEnd\\CycVal_PdeValue       float64\n",
              "ActStrCsh[1]                                       float64\n",
              "@010CycDataInj1\\CycPlstStr\\CycVal_PdeValue         float64\n",
              "@010EgyMidValPeriAuto_MidVal                       float64\n",
              "@010Plst1Prf\\Cp1\\Fce_Data                            int64\n",
              "                                                    ...   \n",
              "@010FastGraphic2System06\\PDEArea\\CycValPdeValue      int64\n",
              "@010EgyMidValMldHtgMidVal                          float64\n",
              "present_prediction                                    bool\n",
              "label_detection_present_prediction                    bool\n",
              "flash_defect_present_prediction                       bool\n",
              "Length: 174, dtype: object"
            ],
            "text/html": [
              "<div>\n",
              "<style scoped>\n",
              "    .dataframe tbody tr th:only-of-type {\n",
              "        vertical-align: middle;\n",
              "    }\n",
              "\n",
              "    .dataframe tbody tr th {\n",
              "        vertical-align: top;\n",
              "    }\n",
              "\n",
              "    .dataframe thead th {\n",
              "        text-align: right;\n",
              "    }\n",
              "</style>\n",
              "<table border=\"1\" class=\"dataframe\">\n",
              "  <thead>\n",
              "    <tr style=\"text-align: right;\">\n",
              "      <th></th>\n",
              "      <th>0</th>\n",
              "    </tr>\n",
              "  </thead>\n",
              "  <tbody>\n",
              "    <tr>\n",
              "      <th>@010CycDataLck\\StrCsh2CfrEnd\\CycVal_PdeValue</th>\n",
              "      <td>float64</td>\n",
              "    </tr>\n",
              "    <tr>\n",
              "      <th>ActStrCsh[1]</th>\n",
              "      <td>float64</td>\n",
              "    </tr>\n",
              "    <tr>\n",
              "      <th>@010CycDataInj1\\CycPlstStr\\CycVal_PdeValue</th>\n",
              "      <td>float64</td>\n",
              "    </tr>\n",
              "    <tr>\n",
              "      <th>@010EgyMidValPeriAuto_MidVal</th>\n",
              "      <td>float64</td>\n",
              "    </tr>\n",
              "    <tr>\n",
              "      <th>@010Plst1Prf\\Cp1\\Fce_Data</th>\n",
              "      <td>int64</td>\n",
              "    </tr>\n",
              "    <tr>\n",
              "      <th>...</th>\n",
              "      <td>...</td>\n",
              "    </tr>\n",
              "    <tr>\n",
              "      <th>@010FastGraphic2System06\\PDEArea\\CycValPdeValue</th>\n",
              "      <td>int64</td>\n",
              "    </tr>\n",
              "    <tr>\n",
              "      <th>@010EgyMidValMldHtgMidVal</th>\n",
              "      <td>float64</td>\n",
              "    </tr>\n",
              "    <tr>\n",
              "      <th>present_prediction</th>\n",
              "      <td>bool</td>\n",
              "    </tr>\n",
              "    <tr>\n",
              "      <th>label_detection_present_prediction</th>\n",
              "      <td>bool</td>\n",
              "    </tr>\n",
              "    <tr>\n",
              "      <th>flash_defect_present_prediction</th>\n",
              "      <td>bool</td>\n",
              "    </tr>\n",
              "  </tbody>\n",
              "</table>\n",
              "<p>174 rows × 1 columns</p>\n",
              "</div><br><label><b>dtype:</b> object</label>"
            ]
          },
          "metadata": {},
          "execution_count": 13
        }
      ]
    },
    {
      "cell_type": "code",
      "source": [
        "y.dtypes"
      ],
      "metadata": {
        "colab": {
          "base_uri": "https://localhost:8080/"
        },
        "id": "_5KPn2s7Zqqo",
        "outputId": "f4e8843f-23d8-4ebc-eb2e-fe43f5b27725"
      },
      "execution_count": null,
      "outputs": [
        {
          "output_type": "execute_result",
          "data": {
            "text/plain": [
              "dtype('bool')"
            ]
          },
          "metadata": {},
          "execution_count": 14
        }
      ]
    },
    {
      "cell_type": "code",
      "source": [
        "non_numeric_cols = X.select_dtypes(include=['object', 'category', 'bool']).columns\n",
        "\n",
        "if len(non_numeric_cols) > 0:\n",
        "    print(\"Encoding columns:\", non_numeric_cols.tolist())\n",
        "    X = pd.get_dummies(X, drop_first=True)\n",
        "    print(\"Shape after encoding:\", X.shape)"
      ],
      "metadata": {
        "colab": {
          "base_uri": "https://localhost:8080/"
        },
        "id": "WlMJui4QkzBW",
        "outputId": "99387b37-4580-48b4-e7de-e525e2822425"
      },
      "execution_count": null,
      "outputs": [
        {
          "output_type": "stream",
          "name": "stdout",
          "text": [
            "Encoding columns: ['ActStsMach', 'present_prediction', 'label_detection_present_prediction', 'flash_defect_present_prediction']\n",
            "Shape after encoding: (2120, 174)\n"
          ]
        }
      ]
    },
    {
      "cell_type": "code",
      "source": [
        "numeric_cols = X.select_dtypes(include=['int64', 'int32', 'float64', 'float32']).columns\n",
        "\n",
        "scaler = StandardScaler()\n",
        "X[numeric_cols] = scaler.fit_transform(X[numeric_cols])"
      ],
      "metadata": {
        "id": "uP3m1Y1RlTy-"
      },
      "execution_count": null,
      "outputs": []
    },
    {
      "cell_type": "code",
      "source": [
        "X.head()"
      ],
      "metadata": {
        "colab": {
          "base_uri": "https://localhost:8080/",
          "height": 255
        },
        "id": "Or-HMJsIYwyh",
        "outputId": "a41a6766-b885-4ede-bde2-feb099dca8b3"
      },
      "execution_count": null,
      "outputs": [
        {
          "output_type": "execute_result",
          "data": {
            "text/plain": [
              "   @010CycDataLck\\StrCsh2CfrEnd\\CycVal_PdeValue  ActStrCsh[1]  \\\n",
              "0                                      1.257862     -0.185913   \n",
              "1                                      1.257862     -0.185913   \n",
              "2                                      1.257862     -0.185913   \n",
              "3                                      1.257862     -0.185913   \n",
              "4                                      1.257862     -0.185913   \n",
              "\n",
              "   @010CycDataInj1\\CycPlstStr\\CycVal_PdeValue  @010EgyMidValPeriAuto_MidVal  \\\n",
              "0                                    0.215499                      0.318561   \n",
              "1                                    0.215499                      0.318561   \n",
              "2                                    0.215499                      0.318561   \n",
              "3                                    0.215499                      0.318561   \n",
              "4                                   -0.480930                      0.318561   \n",
              "\n",
              "   @010Plst1Prf\\Cp1\\Fce_Data  @010Inj1_ScrVelAct  \\\n",
              "0                        0.0           -0.707887   \n",
              "1                        0.0           -0.707887   \n",
              "2                        0.0           -0.707887   \n",
              "3                        0.0           -0.707887   \n",
              "4                        0.0           -0.424928   \n",
              "\n",
              "   @020Inj1T3\\CycDataTmpZone\\CycVal_PdeValue  @010Plst1DcmpPara_PlstStrEndSet  \\\n",
              "0                                   0.164283                        -0.213284   \n",
              "1                                   0.164283                        -0.213284   \n",
              "2                                   0.164283                        -0.213284   \n",
              "3                                   0.164283                        -0.213284   \n",
              "4                                   0.164283                        -0.213284   \n",
              "\n",
              "   @255InjectionUnit_1_PlastificationVolume  \\\n",
              "0                                 -0.134969   \n",
              "1                                 -0.134969   \n",
              "2                                 -0.134969   \n",
              "3                                 -0.134969   \n",
              "4                                 -0.192391   \n",
              "\n",
              "   @020Inj1T6\\CycDataTmpZone\\CycVal_PdeValue  ...  \\\n",
              "0                                   1.113603  ...   \n",
              "1                                   1.113603  ...   \n",
              "2                                   1.113603  ...   \n",
              "3                                   1.113603  ...   \n",
              "4                                   1.113603  ...   \n",
              "\n",
              "   @010CycDataInj1\\CycInjPrsMax\\CycVal_PdeValue  \\\n",
              "0                                      0.026649   \n",
              "1                                      0.026649   \n",
              "2                                      0.026649   \n",
              "3                                      0.026649   \n",
              "4                                      0.039698   \n",
              "\n",
              "   @010FastGraphic2System05\\PDEPeakY\\CycValPdeValue  \\\n",
              "0                                               0.0   \n",
              "1                                               0.0   \n",
              "2                                               0.0   \n",
              "3                                               0.0   \n",
              "4                                               0.0   \n",
              "\n",
              "   @010FastGraphic2System05\\PDEArea\\CycValPdeValue  \\\n",
              "0                                              0.0   \n",
              "1                                              0.0   \n",
              "2                                              0.0   \n",
              "3                                              0.0   \n",
              "4                                              0.0   \n",
              "\n",
              "   @010FastGraphic2System06\\PDEPeakY\\CycValPdeValue  \\\n",
              "0                                               0.0   \n",
              "1                                               0.0   \n",
              "2                                               0.0   \n",
              "3                                               0.0   \n",
              "4                                               0.0   \n",
              "\n",
              "   @010FastGraphic2System06\\PDEArea\\CycValPdeValue  @010EgyMidValMldHtgMidVal  \\\n",
              "0                                              0.0                        0.0   \n",
              "1                                              0.0                        0.0   \n",
              "2                                              0.0                        0.0   \n",
              "3                                              0.0                        0.0   \n",
              "4                                              0.0                        0.0   \n",
              "\n",
              "   present_prediction  label_detection_present_prediction  \\\n",
              "0                True                                True   \n",
              "1                True                                True   \n",
              "2                True                                True   \n",
              "3                True                                True   \n",
              "4                True                                True   \n",
              "\n",
              "   flash_defect_present_prediction  ActStsMach_0S001  \n",
              "0                            False             False  \n",
              "1                            False             False  \n",
              "2                            False             False  \n",
              "3                            False             False  \n",
              "4                            False             False  \n",
              "\n",
              "[5 rows x 174 columns]"
            ],
            "text/html": [
              "\n",
              "  <div id=\"df-5ff312a3-e3e5-4907-8fcb-02ac6afc630c\" class=\"colab-df-container\">\n",
              "    <div>\n",
              "<style scoped>\n",
              "    .dataframe tbody tr th:only-of-type {\n",
              "        vertical-align: middle;\n",
              "    }\n",
              "\n",
              "    .dataframe tbody tr th {\n",
              "        vertical-align: top;\n",
              "    }\n",
              "\n",
              "    .dataframe thead th {\n",
              "        text-align: right;\n",
              "    }\n",
              "</style>\n",
              "<table border=\"1\" class=\"dataframe\">\n",
              "  <thead>\n",
              "    <tr style=\"text-align: right;\">\n",
              "      <th></th>\n",
              "      <th>@010CycDataLck\\StrCsh2CfrEnd\\CycVal_PdeValue</th>\n",
              "      <th>ActStrCsh[1]</th>\n",
              "      <th>@010CycDataInj1\\CycPlstStr\\CycVal_PdeValue</th>\n",
              "      <th>@010EgyMidValPeriAuto_MidVal</th>\n",
              "      <th>@010Plst1Prf\\Cp1\\Fce_Data</th>\n",
              "      <th>@010Inj1_ScrVelAct</th>\n",
              "      <th>@020Inj1T3\\CycDataTmpZone\\CycVal_PdeValue</th>\n",
              "      <th>@010Plst1DcmpPara_PlstStrEndSet</th>\n",
              "      <th>@255InjectionUnit_1_PlastificationVolume</th>\n",
              "      <th>@020Inj1T6\\CycDataTmpZone\\CycVal_PdeValue</th>\n",
              "      <th>...</th>\n",
              "      <th>@010CycDataInj1\\CycInjPrsMax\\CycVal_PdeValue</th>\n",
              "      <th>@010FastGraphic2System05\\PDEPeakY\\CycValPdeValue</th>\n",
              "      <th>@010FastGraphic2System05\\PDEArea\\CycValPdeValue</th>\n",
              "      <th>@010FastGraphic2System06\\PDEPeakY\\CycValPdeValue</th>\n",
              "      <th>@010FastGraphic2System06\\PDEArea\\CycValPdeValue</th>\n",
              "      <th>@010EgyMidValMldHtgMidVal</th>\n",
              "      <th>present_prediction</th>\n",
              "      <th>label_detection_present_prediction</th>\n",
              "      <th>flash_defect_present_prediction</th>\n",
              "      <th>ActStsMach_0S001</th>\n",
              "    </tr>\n",
              "  </thead>\n",
              "  <tbody>\n",
              "    <tr>\n",
              "      <th>0</th>\n",
              "      <td>1.257862</td>\n",
              "      <td>-0.185913</td>\n",
              "      <td>0.215499</td>\n",
              "      <td>0.318561</td>\n",
              "      <td>0.0</td>\n",
              "      <td>-0.707887</td>\n",
              "      <td>0.164283</td>\n",
              "      <td>-0.213284</td>\n",
              "      <td>-0.134969</td>\n",
              "      <td>1.113603</td>\n",
              "      <td>...</td>\n",
              "      <td>0.026649</td>\n",
              "      <td>0.0</td>\n",
              "      <td>0.0</td>\n",
              "      <td>0.0</td>\n",
              "      <td>0.0</td>\n",
              "      <td>0.0</td>\n",
              "      <td>True</td>\n",
              "      <td>True</td>\n",
              "      <td>False</td>\n",
              "      <td>False</td>\n",
              "    </tr>\n",
              "    <tr>\n",
              "      <th>1</th>\n",
              "      <td>1.257862</td>\n",
              "      <td>-0.185913</td>\n",
              "      <td>0.215499</td>\n",
              "      <td>0.318561</td>\n",
              "      <td>0.0</td>\n",
              "      <td>-0.707887</td>\n",
              "      <td>0.164283</td>\n",
              "      <td>-0.213284</td>\n",
              "      <td>-0.134969</td>\n",
              "      <td>1.113603</td>\n",
              "      <td>...</td>\n",
              "      <td>0.026649</td>\n",
              "      <td>0.0</td>\n",
              "      <td>0.0</td>\n",
              "      <td>0.0</td>\n",
              "      <td>0.0</td>\n",
              "      <td>0.0</td>\n",
              "      <td>True</td>\n",
              "      <td>True</td>\n",
              "      <td>False</td>\n",
              "      <td>False</td>\n",
              "    </tr>\n",
              "    <tr>\n",
              "      <th>2</th>\n",
              "      <td>1.257862</td>\n",
              "      <td>-0.185913</td>\n",
              "      <td>0.215499</td>\n",
              "      <td>0.318561</td>\n",
              "      <td>0.0</td>\n",
              "      <td>-0.707887</td>\n",
              "      <td>0.164283</td>\n",
              "      <td>-0.213284</td>\n",
              "      <td>-0.134969</td>\n",
              "      <td>1.113603</td>\n",
              "      <td>...</td>\n",
              "      <td>0.026649</td>\n",
              "      <td>0.0</td>\n",
              "      <td>0.0</td>\n",
              "      <td>0.0</td>\n",
              "      <td>0.0</td>\n",
              "      <td>0.0</td>\n",
              "      <td>True</td>\n",
              "      <td>True</td>\n",
              "      <td>False</td>\n",
              "      <td>False</td>\n",
              "    </tr>\n",
              "    <tr>\n",
              "      <th>3</th>\n",
              "      <td>1.257862</td>\n",
              "      <td>-0.185913</td>\n",
              "      <td>0.215499</td>\n",
              "      <td>0.318561</td>\n",
              "      <td>0.0</td>\n",
              "      <td>-0.707887</td>\n",
              "      <td>0.164283</td>\n",
              "      <td>-0.213284</td>\n",
              "      <td>-0.134969</td>\n",
              "      <td>1.113603</td>\n",
              "      <td>...</td>\n",
              "      <td>0.026649</td>\n",
              "      <td>0.0</td>\n",
              "      <td>0.0</td>\n",
              "      <td>0.0</td>\n",
              "      <td>0.0</td>\n",
              "      <td>0.0</td>\n",
              "      <td>True</td>\n",
              "      <td>True</td>\n",
              "      <td>False</td>\n",
              "      <td>False</td>\n",
              "    </tr>\n",
              "    <tr>\n",
              "      <th>4</th>\n",
              "      <td>1.257862</td>\n",
              "      <td>-0.185913</td>\n",
              "      <td>-0.480930</td>\n",
              "      <td>0.318561</td>\n",
              "      <td>0.0</td>\n",
              "      <td>-0.424928</td>\n",
              "      <td>0.164283</td>\n",
              "      <td>-0.213284</td>\n",
              "      <td>-0.192391</td>\n",
              "      <td>1.113603</td>\n",
              "      <td>...</td>\n",
              "      <td>0.039698</td>\n",
              "      <td>0.0</td>\n",
              "      <td>0.0</td>\n",
              "      <td>0.0</td>\n",
              "      <td>0.0</td>\n",
              "      <td>0.0</td>\n",
              "      <td>True</td>\n",
              "      <td>True</td>\n",
              "      <td>False</td>\n",
              "      <td>False</td>\n",
              "    </tr>\n",
              "  </tbody>\n",
              "</table>\n",
              "<p>5 rows × 174 columns</p>\n",
              "</div>\n",
              "    <div class=\"colab-df-buttons\">\n",
              "\n",
              "  <div class=\"colab-df-container\">\n",
              "    <button class=\"colab-df-convert\" onclick=\"convertToInteractive('df-5ff312a3-e3e5-4907-8fcb-02ac6afc630c')\"\n",
              "            title=\"Convert this dataframe to an interactive table.\"\n",
              "            style=\"display:none;\">\n",
              "\n",
              "  <svg xmlns=\"http://www.w3.org/2000/svg\" height=\"24px\" viewBox=\"0 -960 960 960\">\n",
              "    <path d=\"M120-120v-720h720v720H120Zm60-500h600v-160H180v160Zm220 220h160v-160H400v160Zm0 220h160v-160H400v160ZM180-400h160v-160H180v160Zm440 0h160v-160H620v160ZM180-180h160v-160H180v160Zm440 0h160v-160H620v160Z\"/>\n",
              "  </svg>\n",
              "    </button>\n",
              "\n",
              "  <style>\n",
              "    .colab-df-container {\n",
              "      display:flex;\n",
              "      gap: 12px;\n",
              "    }\n",
              "\n",
              "    .colab-df-convert {\n",
              "      background-color: #E8F0FE;\n",
              "      border: none;\n",
              "      border-radius: 50%;\n",
              "      cursor: pointer;\n",
              "      display: none;\n",
              "      fill: #1967D2;\n",
              "      height: 32px;\n",
              "      padding: 0 0 0 0;\n",
              "      width: 32px;\n",
              "    }\n",
              "\n",
              "    .colab-df-convert:hover {\n",
              "      background-color: #E2EBFA;\n",
              "      box-shadow: 0px 1px 2px rgba(60, 64, 67, 0.3), 0px 1px 3px 1px rgba(60, 64, 67, 0.15);\n",
              "      fill: #174EA6;\n",
              "    }\n",
              "\n",
              "    .colab-df-buttons div {\n",
              "      margin-bottom: 4px;\n",
              "    }\n",
              "\n",
              "    [theme=dark] .colab-df-convert {\n",
              "      background-color: #3B4455;\n",
              "      fill: #D2E3FC;\n",
              "    }\n",
              "\n",
              "    [theme=dark] .colab-df-convert:hover {\n",
              "      background-color: #434B5C;\n",
              "      box-shadow: 0px 1px 3px 1px rgba(0, 0, 0, 0.15);\n",
              "      filter: drop-shadow(0px 1px 2px rgba(0, 0, 0, 0.3));\n",
              "      fill: #FFFFFF;\n",
              "    }\n",
              "  </style>\n",
              "\n",
              "    <script>\n",
              "      const buttonEl =\n",
              "        document.querySelector('#df-5ff312a3-e3e5-4907-8fcb-02ac6afc630c button.colab-df-convert');\n",
              "      buttonEl.style.display =\n",
              "        google.colab.kernel.accessAllowed ? 'block' : 'none';\n",
              "\n",
              "      async function convertToInteractive(key) {\n",
              "        const element = document.querySelector('#df-5ff312a3-e3e5-4907-8fcb-02ac6afc630c');\n",
              "        const dataTable =\n",
              "          await google.colab.kernel.invokeFunction('convertToInteractive',\n",
              "                                                    [key], {});\n",
              "        if (!dataTable) return;\n",
              "\n",
              "        const docLinkHtml = 'Like what you see? Visit the ' +\n",
              "          '<a target=\"_blank\" href=https://colab.research.google.com/notebooks/data_table.ipynb>data table notebook</a>'\n",
              "          + ' to learn more about interactive tables.';\n",
              "        element.innerHTML = '';\n",
              "        dataTable['output_type'] = 'display_data';\n",
              "        await google.colab.output.renderOutput(dataTable, element);\n",
              "        const docLink = document.createElement('div');\n",
              "        docLink.innerHTML = docLinkHtml;\n",
              "        element.appendChild(docLink);\n",
              "      }\n",
              "    </script>\n",
              "  </div>\n",
              "\n",
              "\n",
              "<div id=\"df-b55c7c12-85c9-46ae-aeea-a5ae855f6ba3\">\n",
              "  <button class=\"colab-df-quickchart\" onclick=\"quickchart('df-b55c7c12-85c9-46ae-aeea-a5ae855f6ba3')\"\n",
              "            title=\"Suggest charts\"\n",
              "            style=\"display:none;\">\n",
              "\n",
              "<svg xmlns=\"http://www.w3.org/2000/svg\" height=\"24px\"viewBox=\"0 0 24 24\"\n",
              "     width=\"24px\">\n",
              "    <g>\n",
              "        <path d=\"M19 3H5c-1.1 0-2 .9-2 2v14c0 1.1.9 2 2 2h14c1.1 0 2-.9 2-2V5c0-1.1-.9-2-2-2zM9 17H7v-7h2v7zm4 0h-2V7h2v10zm4 0h-2v-4h2v4z\"/>\n",
              "    </g>\n",
              "</svg>\n",
              "  </button>\n",
              "\n",
              "<style>\n",
              "  .colab-df-quickchart {\n",
              "      --bg-color: #E8F0FE;\n",
              "      --fill-color: #1967D2;\n",
              "      --hover-bg-color: #E2EBFA;\n",
              "      --hover-fill-color: #174EA6;\n",
              "      --disabled-fill-color: #AAA;\n",
              "      --disabled-bg-color: #DDD;\n",
              "  }\n",
              "\n",
              "  [theme=dark] .colab-df-quickchart {\n",
              "      --bg-color: #3B4455;\n",
              "      --fill-color: #D2E3FC;\n",
              "      --hover-bg-color: #434B5C;\n",
              "      --hover-fill-color: #FFFFFF;\n",
              "      --disabled-bg-color: #3B4455;\n",
              "      --disabled-fill-color: #666;\n",
              "  }\n",
              "\n",
              "  .colab-df-quickchart {\n",
              "    background-color: var(--bg-color);\n",
              "    border: none;\n",
              "    border-radius: 50%;\n",
              "    cursor: pointer;\n",
              "    display: none;\n",
              "    fill: var(--fill-color);\n",
              "    height: 32px;\n",
              "    padding: 0;\n",
              "    width: 32px;\n",
              "  }\n",
              "\n",
              "  .colab-df-quickchart:hover {\n",
              "    background-color: var(--hover-bg-color);\n",
              "    box-shadow: 0 1px 2px rgba(60, 64, 67, 0.3), 0 1px 3px 1px rgba(60, 64, 67, 0.15);\n",
              "    fill: var(--button-hover-fill-color);\n",
              "  }\n",
              "\n",
              "  .colab-df-quickchart-complete:disabled,\n",
              "  .colab-df-quickchart-complete:disabled:hover {\n",
              "    background-color: var(--disabled-bg-color);\n",
              "    fill: var(--disabled-fill-color);\n",
              "    box-shadow: none;\n",
              "  }\n",
              "\n",
              "  .colab-df-spinner {\n",
              "    border: 2px solid var(--fill-color);\n",
              "    border-color: transparent;\n",
              "    border-bottom-color: var(--fill-color);\n",
              "    animation:\n",
              "      spin 1s steps(1) infinite;\n",
              "  }\n",
              "\n",
              "  @keyframes spin {\n",
              "    0% {\n",
              "      border-color: transparent;\n",
              "      border-bottom-color: var(--fill-color);\n",
              "      border-left-color: var(--fill-color);\n",
              "    }\n",
              "    20% {\n",
              "      border-color: transparent;\n",
              "      border-left-color: var(--fill-color);\n",
              "      border-top-color: var(--fill-color);\n",
              "    }\n",
              "    30% {\n",
              "      border-color: transparent;\n",
              "      border-left-color: var(--fill-color);\n",
              "      border-top-color: var(--fill-color);\n",
              "      border-right-color: var(--fill-color);\n",
              "    }\n",
              "    40% {\n",
              "      border-color: transparent;\n",
              "      border-right-color: var(--fill-color);\n",
              "      border-top-color: var(--fill-color);\n",
              "    }\n",
              "    60% {\n",
              "      border-color: transparent;\n",
              "      border-right-color: var(--fill-color);\n",
              "    }\n",
              "    80% {\n",
              "      border-color: transparent;\n",
              "      border-right-color: var(--fill-color);\n",
              "      border-bottom-color: var(--fill-color);\n",
              "    }\n",
              "    90% {\n",
              "      border-color: transparent;\n",
              "      border-bottom-color: var(--fill-color);\n",
              "    }\n",
              "  }\n",
              "</style>\n",
              "\n",
              "  <script>\n",
              "    async function quickchart(key) {\n",
              "      const quickchartButtonEl =\n",
              "        document.querySelector('#' + key + ' button');\n",
              "      quickchartButtonEl.disabled = true;  // To prevent multiple clicks.\n",
              "      quickchartButtonEl.classList.add('colab-df-spinner');\n",
              "      try {\n",
              "        const charts = await google.colab.kernel.invokeFunction(\n",
              "            'suggestCharts', [key], {});\n",
              "      } catch (error) {\n",
              "        console.error('Error during call to suggestCharts:', error);\n",
              "      }\n",
              "      quickchartButtonEl.classList.remove('colab-df-spinner');\n",
              "      quickchartButtonEl.classList.add('colab-df-quickchart-complete');\n",
              "    }\n",
              "    (() => {\n",
              "      let quickchartButtonEl =\n",
              "        document.querySelector('#df-b55c7c12-85c9-46ae-aeea-a5ae855f6ba3 button');\n",
              "      quickchartButtonEl.style.display =\n",
              "        google.colab.kernel.accessAllowed ? 'block' : 'none';\n",
              "    })();\n",
              "  </script>\n",
              "</div>\n",
              "\n",
              "    </div>\n",
              "  </div>\n"
            ],
            "application/vnd.google.colaboratory.intrinsic+json": {
              "type": "dataframe",
              "variable_name": "X"
            }
          },
          "metadata": {},
          "execution_count": 17
        }
      ]
    },
    {
      "cell_type": "markdown",
      "source": [
        "# 📊 Exploratory Data Analysis"
      ],
      "metadata": {
        "id": "fQ7jVHpVb2IU"
      }
    },
    {
      "cell_type": "code",
      "source": [
        "plt.figure(figsize=(6, 6), dpi=100)\n",
        "plt.pie(\n",
        "    y.value_counts(),\n",
        "    labels=['Normal', 'Defect'],\n",
        "    autopct='%1.1f%%',\n",
        "    startangle=70,\n",
        "    colors=['skyblue', 'red'],\n",
        "    explode=[0, 0.1]  # Pull out \"Defect\" slice for emphasis\n",
        ")\n",
        "plt.title('Class Distribution')\n",
        "plt.tight_layout()\n",
        "plt.show()\n"
      ],
      "metadata": {
        "colab": {
          "base_uri": "https://localhost:8080/",
          "height": 607
        },
        "id": "dr6o6jQecFEk",
        "outputId": "94ba328b-efae-402d-c08a-cfd2f25a6098"
      },
      "execution_count": null,
      "outputs": [
        {
          "output_type": "display_data",
          "data": {
            "text/plain": [
              "<Figure size 600x600 with 1 Axes>"
            ],
            "image/png": "[encoded data removed]"
          },
          "metadata": {}
        }
      ]
    },
    {
      "cell_type": "markdown",
      "source": [
        "#Model Selection & Evaluation"
      ],
      "metadata": {
        "id": "bBN9wASBoIax"
      }
    },
    {
      "cell_type": "code",
      "source": [
        "from sklearn.linear_model import LogisticRegression\n",
        "from sklearn.model_selection import train_test_split\n",
        "from sklearn.tree import DecisionTreeClassifier\n",
        "from sklearn.ensemble import RandomForestClassifier\n",
        "from xgboost import XGBClassifier\n",
        "from sklearn.metrics import accuracy_score"
      ],
      "metadata": {
        "id": "3Ig5Mg8xmxP5"
      },
      "execution_count": null,
      "outputs": []
    },
    {
      "cell_type": "code",
      "source": [
        "X_train, X_test, y_train, y_test = train_test_split(X, y, test_size=0.20, random_state= 10, stratify=y)\n"
      ],
      "metadata": {
        "id": "hMU_BrsVoXGG"
      },
      "execution_count": null,
      "outputs": []
    },
    {
      "cell_type": "code",
      "source": [
        "from sklearn.metrics import classification_report"
      ],
      "metadata": {
        "id": "E-RqYBG1FHWh"
      },
      "execution_count": null,
      "outputs": []
    },
    {
      "cell_type": "code",
      "source": [
        "lr = LogisticRegression(max_iter=1000, class_weight='balanced')\n",
        "lr.fit(X_train, y_train)\n",
        "lr_pred = lr.predict(X_test)\n",
        "print(classification_report(y_test, lr_pred))\n",
        "accuracy_score(y_test, lr_pred)\n"
      ],
      "metadata": {
        "colab": {
          "base_uri": "https://localhost:8080/"
        },
        "id": "UbNd-N2Bogjb",
        "outputId": "924d5b06-2388-4fde-bd36-1adb36c93f65"
      },
      "execution_count": null,
      "outputs": [
        {
          "output_type": "stream",
          "name": "stdout",
          "text": [
            "              precision    recall  f1-score   support\n",
            "\n",
            "       False       1.00      0.99      0.99       415\n",
            "        True       0.64      1.00      0.78         9\n",
            "\n",
            "    accuracy                           0.99       424\n",
            "   macro avg       0.82      0.99      0.89       424\n",
            "weighted avg       0.99      0.99      0.99       424\n",
            "\n"
          ]
        },
        {
          "output_type": "execute_result",
          "data": {
            "text/plain": [
              "0.9882075471698113"
            ]
          },
          "metadata": {},
          "execution_count": 25
        }
      ]
    },
    {
      "cell_type": "code",
      "source": [
        "dt = DecisionTreeClassifier(class_weight='balanced', random_state= 5)\n",
        "\n",
        "# Train\n",
        "dt.fit(X_train, y_train)\n",
        "\n",
        "# Predict\n",
        "y_pred_dt = dt.predict(X_test)\n",
        "print(classification_report(y_test, y_pred_dt))\n",
        "accuracy_score(y_test, y_pred_dt)"
      ],
      "metadata": {
        "colab": {
          "base_uri": "https://localhost:8080/"
        },
        "id": "H33UsmWKor0k",
        "outputId": "7956f259-b464-40cf-8b7e-8a400bb2016b"
      },
      "execution_count": null,
      "outputs": [
        {
          "output_type": "stream",
          "name": "stdout",
          "text": [
            "              precision    recall  f1-score   support\n",
            "\n",
            "       False       1.00      0.99      0.99       415\n",
            "        True       0.64      1.00      0.78         9\n",
            "\n",
            "    accuracy                           0.99       424\n",
            "   macro avg       0.82      0.99      0.89       424\n",
            "weighted avg       0.99      0.99      0.99       424\n",
            "\n"
          ]
        },
        {
          "output_type": "execute_result",
          "data": {
            "text/plain": [
              "0.9882075471698113"
            ]
          },
          "metadata": {},
          "execution_count": 26
        }
      ]
    },
    {
      "cell_type": "code",
      "source": [
        "# Initialize Random Forest\n",
        "rf = RandomForestClassifier(\n",
        "    n_estimators=100,\n",
        "    class_weight='balanced',\n",
        "    random_state= 10\n",
        ")\n",
        "\n",
        "# Train\n",
        "rf.fit(X_train, y_train)\n",
        "\n",
        "# Predict\n",
        "y_pred_rf = rf.predict(X_test)\n",
        "print(classification_report(y_test, y_pred_rf))\n",
        "accuracy_score(y_test, y_pred_rf)"
      ],
      "metadata": {
        "colab": {
          "base_uri": "https://localhost:8080/"
        },
        "id": "yLImnGGIo4ED",
        "outputId": "0fccc2db-969f-421d-cca7-9435b10723d6"
      },
      "execution_count": null,
      "outputs": [
        {
          "output_type": "stream",
          "name": "stdout",
          "text": [
            "              precision    recall  f1-score   support\n",
            "\n",
            "       False       1.00      0.99      0.99       415\n",
            "        True       0.64      1.00      0.78         9\n",
            "\n",
            "    accuracy                           0.99       424\n",
            "   macro avg       0.82      0.99      0.89       424\n",
            "weighted avg       0.99      0.99      0.99       424\n",
            "\n"
          ]
        },
        {
          "output_type": "execute_result",
          "data": {
            "text/plain": [
              "0.9882075471698113"
            ]
          },
          "metadata": {},
          "execution_count": 27
        }
      ]
    },
    {
      "cell_type": "code",
      "source": [
        "# Clean column names to make them XGBoost-safe\n",
        "X_train.columns = X_train.columns.str.replace(r'[\\[\\]<>]', '', regex=True)\n",
        "X_test.columns = X_test.columns.str.replace(r'[\\[\\]<>]', '', regex=True)\n"
      ],
      "metadata": {
        "id": "naNdQzCZsB34"
      },
      "execution_count": null,
      "outputs": []
    },
    {
      "cell_type": "code",
      "source": [
        "# Handle imbalance: ratio = (# negative) / (# positive)\n",
        "pos_ratio = (y_train == 0).sum() / (y_train == 1).sum()\n",
        "\n",
        "xgb = XGBClassifier(\n",
        "    n_estimators=100,\n",
        "    max_depth=5,\n",
        "    learning_rate=0.1,\n",
        "    scale_pos_weight=pos_ratio,\n",
        "    use_label_encoder=False,\n",
        "    eval_metric='logloss',\n",
        "    random_state=42\n",
        ")\n",
        "\n",
        "# Ensure X_train column names are strings before fitting\n",
        "X_train.columns = X_train.columns.astype(str)\n",
        "\n",
        "# Train\n",
        "xgb.fit(X_train, y_train)\n",
        "\n",
        "# Predict\n",
        "y_pred_xgb = xgb.predict(X_test)\n",
        "print(classification_report(y_test, y_pred_xgb))\n",
        "accuracy_score(y_test, y_pred_xgb)"
      ],
      "metadata": {
        "colab": {
          "base_uri": "https://localhost:8080/"
        },
        "id": "Z2x73aC8pU99",
        "outputId": "cbaa84e9-e236-401c-a4f4-2adebc720e84"
      },
      "execution_count": null,
      "outputs": [
        {
          "output_type": "stream",
          "name": "stderr",
          "text": [
            "/usr/local/lib/python3.11/dist-packages/xgboost/core.py:158: UserWarning: [21:50:11] WARNING: /workspace/src/learner.cc:740: \n",
            "Parameters: { \"use_label_encoder\" } are not used.\n",
            "\n",
            "  warnings.warn(smsg, UserWarning)\n"
          ]
        },
        {
          "output_type": "stream",
          "name": "stdout",
          "text": [
            "              precision    recall  f1-score   support\n",
            "\n",
            "       False       1.00      0.99      0.99       415\n",
            "        True       0.64      1.00      0.78         9\n",
            "\n",
            "    accuracy                           0.99       424\n",
            "   macro avg       0.82      0.99      0.89       424\n",
            "weighted avg       0.99      0.99      0.99       424\n",
            "\n"
          ]
        },
        {
          "output_type": "execute_result",
          "data": {
            "text/plain": [
              "0.9882075471698113"
            ]
          },
          "metadata": {},
          "execution_count": 29
        }
      ]
    },
    {
      "cell_type": "code",
      "source": [
        "from imblearn.over_sampling import SMOTE\n",
        "from sklearn.model_selection import train_test_split\n",
        "\n",
        "# Re-split to keep everything fresh\n",
        "X_train, X_test, y_train, y_test = train_test_split(\n",
        "    X, y,\n",
        "    test_size=0.2,\n",
        "    random_state=10,\n",
        "    stratify=y\n",
        ")\n",
        "\n",
        "# Apply SMOTE to training data\n",
        "smote = SMOTE(random_state = 10)\n",
        "X_resampled, y_resampled = smote.fit_resample(X_train, y_train)\n"
      ],
      "metadata": {
        "id": "z2B-hjI8phL0"
      },
      "execution_count": null,
      "outputs": []
    },
    {
      "cell_type": "code",
      "source": [
        "from sklearn.linear_model import LogisticRegression\n",
        "from sklearn.metrics import classification_report\n",
        "\n",
        "lr_smote = LogisticRegression(max_iter=1000, random_state=10)\n",
        "lr_smote.fit(X_resampled, y_resampled)\n",
        "\n",
        "y_pred_lr_smote = lr_smote.predict(X_test)\n",
        "print(classification_report(y_test, y_pred_lr_smote))\n",
        "accuracy_score(y_test, y_pred_lr_smote)\n"
      ],
      "metadata": {
        "colab": {
          "base_uri": "https://localhost:8080/"
        },
        "id": "h-nfCcbRxhVS",
        "outputId": "013dea98-c2f8-4162-b938-6203ee6e3dc2"
      },
      "execution_count": null,
      "outputs": [
        {
          "output_type": "stream",
          "name": "stdout",
          "text": [
            "              precision    recall  f1-score   support\n",
            "\n",
            "       False       1.00      0.99      0.99       415\n",
            "        True       0.64      1.00      0.78         9\n",
            "\n",
            "    accuracy                           0.99       424\n",
            "   macro avg       0.82      0.99      0.89       424\n",
            "weighted avg       0.99      0.99      0.99       424\n",
            "\n"
          ]
        },
        {
          "output_type": "execute_result",
          "data": {
            "text/plain": [
              "0.9882075471698113"
            ]
          },
          "metadata": {},
          "execution_count": 31
        }
      ]
    },
    {
      "cell_type": "code",
      "source": [
        "from sklearn.tree import DecisionTreeClassifier\n",
        "\n",
        "dt_smote = DecisionTreeClassifier(class_weight='balanced', random_state=10)\n",
        "dt_smote.fit(X_resampled, y_resampled)\n",
        "\n",
        "y_pred_dt_smote = dt_smote.predict(X_test)\n",
        "print(classification_report(y_test, y_pred_dt_smote))\n",
        "accuracy_score(y_test, y_pred_dt_smote)\n"
      ],
      "metadata": {
        "colab": {
          "base_uri": "https://localhost:8080/"
        },
        "id": "inC8-5lBxrKu",
        "outputId": "f296466f-de90-41d4-98a2-14e1857ad2fa"
      },
      "execution_count": null,
      "outputs": [
        {
          "output_type": "stream",
          "name": "stdout",
          "text": [
            "              precision    recall  f1-score   support\n",
            "\n",
            "       False       0.99      0.99      0.99       415\n",
            "        True       0.67      0.67      0.67         9\n",
            "\n",
            "    accuracy                           0.99       424\n",
            "   macro avg       0.83      0.83      0.83       424\n",
            "weighted avg       0.99      0.99      0.99       424\n",
            "\n"
          ]
        },
        {
          "output_type": "execute_result",
          "data": {
            "text/plain": [
              "0.9858490566037735"
            ]
          },
          "metadata": {},
          "execution_count": 32
        }
      ]
    },
    {
      "cell_type": "code",
      "source": [
        "from sklearn.ensemble import RandomForestClassifier\n",
        "\n",
        "rf_smote = RandomForestClassifier(\n",
        "    n_estimators=100,\n",
        "    class_weight='balanced',\n",
        "    random_state=10\n",
        ")\n",
        "rf_smote.fit(X_resampled, y_resampled)\n",
        "\n",
        "y_pred_rf_smote = rf_smote.predict(X_test)\n",
        "print(classification_report(y_test, y_pred_rf_smote))\n",
        "accuracy_score(y_test, y_pred_rf_smote)"
      ],
      "metadata": {
        "colab": {
          "base_uri": "https://localhost:8080/"
        },
        "id": "KvsZjX2Jx6F0",
        "outputId": "04d958fb-e8b5-42d8-c398-2de3ff81bbee"
      },
      "execution_count": null,
      "outputs": [
        {
          "output_type": "stream",
          "name": "stdout",
          "text": [
            "              precision    recall  f1-score   support\n",
            "\n",
            "       False       1.00      0.99      0.99       415\n",
            "        True       0.64      1.00      0.78         9\n",
            "\n",
            "    accuracy                           0.99       424\n",
            "   macro avg       0.82      0.99      0.89       424\n",
            "weighted avg       0.99      0.99      0.99       424\n",
            "\n"
          ]
        },
        {
          "output_type": "execute_result",
          "data": {
            "text/plain": [
              "0.9882075471698113"
            ]
          },
          "metadata": {},
          "execution_count": 33
        }
      ]
    },
    {
      "cell_type": "code",
      "source": [
        "X_resampled.columns = X_resampled.columns.str.replace(r'[\\[\\]<>]', '', regex=True)\n",
        "X_test.columns = X_test.columns.str.replace(r'[\\[\\]<>]', '', regex=True)"
      ],
      "metadata": {
        "id": "WNwRnTIoyRUz"
      },
      "execution_count": null,
      "outputs": []
    },
    {
      "cell_type": "code",
      "source": [
        "from xgboost import XGBClassifier\n",
        "\n",
        "# Adjust imbalance manually using scale_pos_weight\n",
        "pos_ratio = (y_resampled == 0).sum() / (y_resampled == 1).sum()\n",
        "\n",
        "xgb_smote = XGBClassifier(\n",
        "    n_estimators=100,\n",
        "    max_depth=5,\n",
        "    learning_rate=0.1,\n",
        "    scale_pos_weight=pos_ratio,\n",
        "    use_label_encoder=False,\n",
        "    eval_metric='logloss',\n",
        "    random_state=10\n",
        ")\n",
        "\n",
        "# Clean column names if needed\n",
        "X_resampled.columns = X_resampled.columns.astype(str)\n",
        "X_test.columns = X_test.columns.astype(str)\n",
        "\n",
        "xgb_smote.fit(X_resampled, y_resampled)\n",
        "y_pred_xgb_smote = xgb_smote.predict(X_test)\n",
        "\n",
        "print(\"XGBoost + SMOTE\")\n",
        "print(classification_report(y_test, y_pred_xgb_smote))\n",
        "accuracy_score(y_test, y_pred_xgb_smote)"
      ],
      "metadata": {
        "colab": {
          "base_uri": "https://localhost:8080/"
        },
        "id": "5FDv6w2HyDIb",
        "outputId": "be021f41-1cf7-4ec1-dd5f-596767d17560"
      },
      "execution_count": null,
      "outputs": [
        {
          "output_type": "stream",
          "name": "stderr",
          "text": [
            "/usr/local/lib/python3.11/dist-packages/xgboost/core.py:158: UserWarning: [21:50:16] WARNING: /workspace/src/learner.cc:740: \n",
            "Parameters: { \"use_label_encoder\" } are not used.\n",
            "\n",
            "  warnings.warn(smsg, UserWarning)\n"
          ]
        },
        {
          "output_type": "stream",
          "name": "stdout",
          "text": [
            "XGBoost + SMOTE\n",
            "              precision    recall  f1-score   support\n",
            "\n",
            "       False       1.00      0.99      0.99       415\n",
            "        True       0.64      1.00      0.78         9\n",
            "\n",
            "    accuracy                           0.99       424\n",
            "   macro avg       0.82      0.99      0.89       424\n",
            "weighted avg       0.99      0.99      0.99       424\n",
            "\n"
          ]
        },
        {
          "output_type": "execute_result",
          "data": {
            "text/plain": [
              "0.9882075471698113"
            ]
          },
          "metadata": {},
          "execution_count": 35
        }
      ]
    },
    {
      "cell_type": "code",
      "source": [
        "from sklearn.metrics import confusion_matrix, ConfusionMatrixDisplay\n",
        "import matplotlib.pyplot as plt\n"
      ],
      "metadata": {
        "id": "QvcOlPDz5_0U"
      },
      "execution_count": null,
      "outputs": []
    },
    {
      "cell_type": "code",
      "source": [
        "import tensorflow as tf\n",
        "from tensorflow.keras.models import Sequential\n",
        "from tensorflow.keras.layers import Dense, Dropout\n",
        "from tensorflow.keras.callbacks import EarlyStopping\n",
        "from sklearn.metrics import classification_report, accuracy_score\n",
        "\n",
        "# Define the neural network model\n",
        "nn_model = Sequential([\n",
        "    Dense(64, activation='relu', input_shape=(X_train.shape[1],)),\n",
        "    Dropout(0.3),\n",
        "    Dense(32, activation='relu'),\n",
        "    Dropout(0.3),\n",
        "    Dense(1, activation='sigmoid')\n",
        "])\n",
        "\n",
        "nn_model.compile(optimizer='adam', loss='binary_crossentropy', metrics=['accuracy'])\n",
        "\n",
        "# Set up early stopping\n",
        "early_stop = EarlyStopping(monitor='val_loss', patience=20, restore_best_weights=True)\n",
        "\n",
        "# Train\n",
        "history = nn_model.fit(X_train, y_train,\n",
        "                       epochs=200,\n",
        "                       batch_size=32,\n",
        "                       validation_split=0.2,\n",
        "                       callbacks=[early_stop],\n",
        "                       verbose=1)\n",
        "\n",
        "# Predict on test set; threshold outputs at 0.5\n",
        "y_pred_nn = (nn_model.predict(X_test) > 0.5).astype(int).flatten()\n",
        "\n",
        "# Print classification report and accuracy for the neural network\n",
        "print(\"Neural Network Classification Report:\")\n",
        "print(classification_report(y_test, y_pred_nn))\n",
        "print(\"Neural Network Accuracy:\", accuracy_score(y_test, y_pred_nn))\n"
      ],
      "metadata": {
        "colab": {
          "base_uri": "https://localhost:8080/"
        },
        "id": "N7FqUR_SAji8",
        "outputId": "815117f3-8571-4ab9-8752-f18766e88bd3"
      },
      "execution_count": null,
      "outputs": [
        {
          "output_type": "stream",
          "name": "stdout",
          "text": [
            "Epoch 1/200\n"
          ]
        },
        {
          "output_type": "stream",
          "name": "stderr",
          "text": [
            "/usr/local/lib/python3.11/dist-packages/keras/src/layers/core/dense.py:87: UserWarning: Do not pass an `input_shape`/`input_dim` argument to a layer. When using Sequential models, prefer using an `Input(shape)` object as the first layer in the model instead.\n",
            "  super().__init__(activity_regularizer=activity_regularizer, **kwargs)\n"
          ]
        },
        {
          "output_type": "stream",
          "name": "stdout",
          "text": [
            "\u001b[1m43/43\u001b[0m \u001b[32m━━━━━━━━━━━━━━━━━━━━\u001b[0m\u001b[37m\u001b[0m \u001b[1m4s\u001b[0m 38ms/step - accuracy: 0.8617 - loss: 0.3820 - val_accuracy: 0.9853 - val_loss: 0.0421\n",
            "Epoch 2/200\n",
            "\u001b[1m43/43\u001b[0m \u001b[32m━━━━━━━━━━━━━━━━━━━━\u001b[0m\u001b[37m\u001b[0m \u001b[1m0s\u001b[0m 4ms/step - accuracy: 0.9881 - loss: 0.0673 - val_accuracy: 0.9912 - val_loss: 0.0234\n",
            "Epoch 3/200\n",
            "\u001b[1m43/43\u001b[0m \u001b[32m━━━━━━━━━━━━━━━━━━━━\u001b[0m\u001b[37m\u001b[0m \u001b[1m0s\u001b[0m 4ms/step - accuracy: 0.9841 - loss: 0.0692 - val_accuracy: 0.9882 - val_loss: 0.0258\n",
            "Epoch 4/200\n",
            "\u001b[1m43/43\u001b[0m \u001b[32m━━━━━━━━━━━━━━━━━━━━\u001b[0m\u001b[37m\u001b[0m \u001b[1m0s\u001b[0m 4ms/step - accuracy: 0.9875 - loss: 0.0399 - val_accuracy: 0.9912 - val_loss: 0.0286\n",
            "Epoch 5/200\n",
            "\u001b[1m43/43\u001b[0m \u001b[32m━━━━━━━━━━━━━━━━━━━━\u001b[0m\u001b[37m\u001b[0m \u001b[1m0s\u001b[0m 6ms/step - accuracy: 0.9888 - loss: 0.0352 - val_accuracy: 0.9882 - val_loss: 0.0214\n",
            "Epoch 6/200\n",
            "\u001b[1m43/43\u001b[0m \u001b[32m━━━━━━━━━━━━━━━━━━━━\u001b[0m\u001b[37m\u001b[0m \u001b[1m0s\u001b[0m 6ms/step - accuracy: 0.9811 - loss: 0.0410 - val_accuracy: 0.9882 - val_loss: 0.0238\n",
            "Epoch 7/200\n",
            "\u001b[1m43/43\u001b[0m \u001b[32m━━━━━━━━━━━━━━━━━━━━\u001b[0m\u001b[37m\u001b[0m \u001b[1m0s\u001b[0m 6ms/step - accuracy: 0.9826 - loss: 0.0308 - val_accuracy: 0.9912 - val_loss: 0.0206\n",
            "Epoch 8/200\n",
            "\u001b[1m43/43\u001b[0m \u001b[32m━━━━━━━━━━━━━━━━━━━━\u001b[0m\u001b[37m\u001b[0m \u001b[1m0s\u001b[0m 6ms/step - accuracy: 0.9869 - loss: 0.0307 - val_accuracy: 0.9882 - val_loss: 0.0213\n",
            "Epoch 9/200\n",
            "\u001b[1m43/43\u001b[0m \u001b[32m━━━━━━━━━━━━━━━━━━━━\u001b[0m\u001b[37m\u001b[0m \u001b[1m0s\u001b[0m 6ms/step - accuracy: 0.9889 - loss: 0.0244 - val_accuracy: 0.9824 - val_loss: 0.0224\n",
            "Epoch 10/200\n",
            "\u001b[1m43/43\u001b[0m \u001b[32m━━━━━━━━━━━━━━━━━━━━\u001b[0m\u001b[37m\u001b[0m \u001b[1m0s\u001b[0m 6ms/step - accuracy: 0.9830 - loss: 0.0346 - val_accuracy: 0.9853 - val_loss: 0.0216\n",
            "Epoch 11/200\n",
            "\u001b[1m43/43\u001b[0m \u001b[32m━━━━━━━━━━━━━━━━━━━━\u001b[0m\u001b[37m\u001b[0m \u001b[1m0s\u001b[0m 5ms/step - accuracy: 0.9892 - loss: 0.0187 - val_accuracy: 0.9853 - val_loss: 0.0220\n",
            "Epoch 12/200\n",
            "\u001b[1m43/43\u001b[0m \u001b[32m━━━━━━━━━━━━━━━━━━━━\u001b[0m\u001b[37m\u001b[0m \u001b[1m0s\u001b[0m 4ms/step - accuracy: 0.9879 - loss: 0.0273 - val_accuracy: 0.9882 - val_loss: 0.0203\n",
            "Epoch 13/200\n",
            "\u001b[1m43/43\u001b[0m \u001b[32m━━━━━━━━━━━━━━━━━━━━\u001b[0m\u001b[37m\u001b[0m \u001b[1m0s\u001b[0m 4ms/step - accuracy: 0.9895 - loss: 0.0278 - val_accuracy: 0.9853 - val_loss: 0.0213\n",
            "Epoch 14/200\n",
            "\u001b[1m43/43\u001b[0m \u001b[32m━━━━━━━━━━━━━━━━━━━━\u001b[0m\u001b[37m\u001b[0m \u001b[1m0s\u001b[0m 4ms/step - accuracy: 0.9838 - loss: 0.0294 - val_accuracy: 0.9882 - val_loss: 0.0200\n",
            "Epoch 15/200\n",
            "\u001b[1m43/43\u001b[0m \u001b[32m━━━━━━━━━━━━━━━━━━━━\u001b[0m\u001b[37m\u001b[0m \u001b[1m0s\u001b[0m 4ms/step - accuracy: 0.9819 - loss: 0.0381 - val_accuracy: 0.9882 - val_loss: 0.0211\n",
            "Epoch 16/200\n",
            "\u001b[1m43/43\u001b[0m \u001b[32m━━━━━━━━━━━━━━━━━━━━\u001b[0m\u001b[37m\u001b[0m \u001b[1m0s\u001b[0m 4ms/step - accuracy: 0.9886 - loss: 0.0245 - val_accuracy: 0.9853 - val_loss: 0.0239\n",
            "Epoch 17/200\n",
            "\u001b[1m43/43\u001b[0m \u001b[32m━━━━━━━━━━━━━━━━━━━━\u001b[0m\u001b[37m\u001b[0m \u001b[1m0s\u001b[0m 4ms/step - accuracy: 0.9911 - loss: 0.0209 - val_accuracy: 0.9853 - val_loss: 0.0223\n",
            "Epoch 18/200\n",
            "\u001b[1m43/43\u001b[0m \u001b[32m━━━━━━━━━━━━━━━━━━━━\u001b[0m\u001b[37m\u001b[0m \u001b[1m0s\u001b[0m 4ms/step - accuracy: 0.9886 - loss: 0.0193 - val_accuracy: 0.9853 - val_loss: 0.0234\n",
            "Epoch 19/200\n",
            "\u001b[1m43/43\u001b[0m \u001b[32m━━━━━━━━━━━━━━━━━━━━\u001b[0m\u001b[37m\u001b[0m \u001b[1m0s\u001b[0m 4ms/step - accuracy: 0.9897 - loss: 0.0185 - val_accuracy: 0.9824 - val_loss: 0.0255\n",
            "Epoch 20/200\n",
            "\u001b[1m43/43\u001b[0m \u001b[32m━━━━━━━━━━━━━━━━━━━━\u001b[0m\u001b[37m\u001b[0m \u001b[1m0s\u001b[0m 4ms/step - accuracy: 0.9898 - loss: 0.0168 - val_accuracy: 0.9853 - val_loss: 0.0242\n",
            "Epoch 21/200\n",
            "\u001b[1m43/43\u001b[0m \u001b[32m━━━━━━━━━━━━━━━━━━━━\u001b[0m\u001b[37m\u001b[0m \u001b[1m0s\u001b[0m 4ms/step - accuracy: 0.9919 - loss: 0.0159 - val_accuracy: 0.9853 - val_loss: 0.0259\n",
            "Epoch 22/200\n",
            "\u001b[1m43/43\u001b[0m \u001b[32m━━━━━━━━━━━━━━━━━━━━\u001b[0m\u001b[37m\u001b[0m \u001b[1m0s\u001b[0m 4ms/step - accuracy: 0.9912 - loss: 0.0232 - val_accuracy: 0.9853 - val_loss: 0.0267\n",
            "Epoch 23/200\n",
            "\u001b[1m43/43\u001b[0m \u001b[32m━━━━━━━━━━━━━━━━━━━━\u001b[0m\u001b[37m\u001b[0m \u001b[1m0s\u001b[0m 4ms/step - accuracy: 0.9926 - loss: 0.0180 - val_accuracy: 0.9853 - val_loss: 0.0270\n",
            "Epoch 24/200\n",
            "\u001b[1m43/43\u001b[0m \u001b[32m━━━━━━━━━━━━━━━━━━━━\u001b[0m\u001b[37m\u001b[0m \u001b[1m0s\u001b[0m 4ms/step - accuracy: 0.9856 - loss: 0.0251 - val_accuracy: 0.9853 - val_loss: 0.0282\n",
            "Epoch 25/200\n",
            "\u001b[1m43/43\u001b[0m \u001b[32m━━━━━━━━━━━━━━━━━━━━\u001b[0m\u001b[37m\u001b[0m \u001b[1m0s\u001b[0m 4ms/step - accuracy: 0.9916 - loss: 0.0173 - val_accuracy: 0.9853 - val_loss: 0.0238\n",
            "Epoch 26/200\n",
            "\u001b[1m43/43\u001b[0m \u001b[32m━━━━━━━━━━━━━━━━━━━━\u001b[0m\u001b[37m\u001b[0m \u001b[1m0s\u001b[0m 4ms/step - accuracy: 0.9912 - loss: 0.0180 - val_accuracy: 0.9853 - val_loss: 0.0257\n",
            "Epoch 27/200\n",
            "\u001b[1m43/43\u001b[0m \u001b[32m━━━━━━━━━━━━━━━━━━━━\u001b[0m\u001b[37m\u001b[0m \u001b[1m0s\u001b[0m 4ms/step - accuracy: 0.9884 - loss: 0.0210 - val_accuracy: 0.9824 - val_loss: 0.0261\n",
            "Epoch 28/200\n",
            "\u001b[1m43/43\u001b[0m \u001b[32m━━━━━━━━━━━━━━━━━━━━\u001b[0m\u001b[37m\u001b[0m \u001b[1m0s\u001b[0m 4ms/step - accuracy: 0.9921 - loss: 0.0184 - val_accuracy: 0.9853 - val_loss: 0.0245\n",
            "Epoch 29/200\n",
            "\u001b[1m43/43\u001b[0m \u001b[32m━━━━━━━━━━━━━━━━━━━━\u001b[0m\u001b[37m\u001b[0m \u001b[1m0s\u001b[0m 4ms/step - accuracy: 0.9923 - loss: 0.0155 - val_accuracy: 0.9853 - val_loss: 0.0249\n",
            "Epoch 30/200\n",
            "\u001b[1m43/43\u001b[0m \u001b[32m━━━━━━━━━━━━━━━━━━━━\u001b[0m\u001b[37m\u001b[0m \u001b[1m0s\u001b[0m 4ms/step - accuracy: 0.9907 - loss: 0.0181 - val_accuracy: 0.9824 - val_loss: 0.0279\n",
            "Epoch 31/200\n",
            "\u001b[1m43/43\u001b[0m \u001b[32m━━━━━━━━━━━━━━━━━━━━\u001b[0m\u001b[37m\u001b[0m \u001b[1m0s\u001b[0m 4ms/step - accuracy: 0.9905 - loss: 0.0196 - val_accuracy: 0.9824 - val_loss: 0.0290\n",
            "Epoch 32/200\n",
            "\u001b[1m43/43\u001b[0m \u001b[32m━━━━━━━━━━━━━━━━━━━━\u001b[0m\u001b[37m\u001b[0m \u001b[1m0s\u001b[0m 4ms/step - accuracy: 0.9897 - loss: 0.0182 - val_accuracy: 0.9853 - val_loss: 0.0286\n",
            "Epoch 33/200\n",
            "\u001b[1m43/43\u001b[0m \u001b[32m━━━━━━━━━━━━━━━━━━━━\u001b[0m\u001b[37m\u001b[0m \u001b[1m0s\u001b[0m 4ms/step - accuracy: 0.9926 - loss: 0.0191 - val_accuracy: 0.9824 - val_loss: 0.0281\n",
            "Epoch 34/200\n",
            "\u001b[1m43/43\u001b[0m \u001b[32m━━━━━━━━━━━━━━━━━━━━\u001b[0m\u001b[37m\u001b[0m \u001b[1m0s\u001b[0m 4ms/step - accuracy: 0.9918 - loss: 0.0180 - val_accuracy: 0.9824 - val_loss: 0.0293\n",
            "\u001b[1m14/14\u001b[0m \u001b[32m━━━━━━━━━━━━━━━━━━━━\u001b[0m\u001b[37m\u001b[0m \u001b[1m0s\u001b[0m 10ms/step\n",
            "Neural Network Classification Report:\n",
            "              precision    recall  f1-score   support\n",
            "\n",
            "       False       1.00      0.99      1.00       415\n",
            "        True       0.73      0.89      0.80         9\n",
            "\n",
            "    accuracy                           0.99       424\n",
            "   macro avg       0.86      0.94      0.90       424\n",
            "weighted avg       0.99      0.99      0.99       424\n",
            "\n",
            "Neural Network Accuracy: 0.9905660377358491\n"
          ]
        }
      ]
    },
    {
      "cell_type": "code",
      "source": [
        "import tensorflow as tf\n",
        "from tensorflow.keras.models import Sequential\n",
        "from tensorflow.keras.layers import Dense, Dropout, BatchNormalization, LeakyReLU\n",
        "from tensorflow.keras.callbacks import EarlyStopping, ModelCheckpoint\n",
        "from sklearn.metrics import classification_report, accuracy_score\n",
        "\n",
        "# Define the improved neural network model\n",
        "nn_model = Sequential()\n",
        "\n",
        "# Input layer with 128 neurons, BatchNorm, LeakyReLU, and dropout\n",
        "nn_model.add(Dense(128, input_shape=(X_train.shape[1],)))\n",
        "nn_model.add(BatchNormalization())\n",
        "nn_model.add(LeakyReLU(alpha=0.1))\n",
        "nn_model.add(Dropout(0.4))\n",
        "\n",
        "# Hidden layer 1: 64 neurons\n",
        "nn_model.add(Dense(64))\n",
        "nn_model.add(BatchNormalization())\n",
        "nn_model.add(LeakyReLU(alpha=0.1))\n",
        "nn_model.add(Dropout(0.3))\n",
        "\n",
        "# Hidden layer 2: 32 neurons\n",
        "nn_model.add(Dense(32))\n",
        "nn_model.add(BatchNormalization())\n",
        "nn_model.add(LeakyReLU(alpha=0.1))\n",
        "nn_model.add(Dropout(0.2))\n",
        "\n",
        "# Output layer: 1 neuron with sigmoid activation for binary classification\n",
        "nn_model.add(Dense(1, activation='sigmoid'))\n",
        "\n",
        "# Compile the model\n",
        "nn_model.compile(optimizer='adam', loss='binary_crossentropy', metrics=['accuracy'])\n",
        "\n",
        "# Setup callbacks: Early stopping and Model Checkpointing\n",
        "early_stop = EarlyStopping(monitor='val_loss', patience=10, restore_best_weights=True)\n",
        "checkpoint = ModelCheckpoint(\"best_nn_model.h5\", monitor='val_loss', save_best_only=True)\n",
        "\n",
        "# Train the model\n",
        "history = nn_model.fit(\n",
        "    X_train, y_train,\n",
        "    epochs=200,\n",
        "    batch_size=32,\n",
        "    validation_split=0.2,\n",
        "    callbacks=[early_stop, checkpoint],\n",
        "    verbose=1\n",
        ")\n",
        "\n",
        "# Make predictions on the test set; threshold probabilities at 0.5\n",
        "y_pred_nn = (nn_model.predict(X_test) > 0.5).astype(int).flatten()\n",
        "\n",
        "# Output classification report and accuracy\n",
        "print(\"Improved Neural Network Classification Report:\")\n",
        "print(classification_report(y_test, y_pred_nn))\n",
        "print(\"Improved Neural Network Accuracy:\", accuracy_score(y_test, y_pred_nn))\n"
      ],
      "metadata": {
        "colab": {
          "base_uri": "https://localhost:8080/"
        },
        "id": "eLERqHwKAsP_",
        "outputId": "5e8c259a-621d-446c-e5cf-c46ffa32e88a"
      },
      "execution_count": null,
      "outputs": [
        {
          "output_type": "stream",
          "name": "stderr",
          "text": [
            "/usr/local/lib/python3.11/dist-packages/keras/src/layers/core/dense.py:87: UserWarning: Do not pass an `input_shape`/`input_dim` argument to a layer. When using Sequential models, prefer using an `Input(shape)` object as the first layer in the model instead.\n",
            "  super().__init__(activity_regularizer=activity_regularizer, **kwargs)\n",
            "/usr/local/lib/python3.11/dist-packages/keras/src/layers/activations/leaky_relu.py:41: UserWarning: Argument `alpha` is deprecated. Use `negative_slope` instead.\n",
            "  warnings.warn(\n"
          ]
        },
        {
          "output_type": "stream",
          "name": "stdout",
          "text": [
            "Epoch 1/200\n",
            "\u001b[1m43/43\u001b[0m \u001b[32m━━━━━━━━━━━━━━━━━━━━\u001b[0m\u001b[37m\u001b[0m \u001b[1m0s\u001b[0m 58ms/step - accuracy: 0.7873 - loss: 0.4836"
          ]
        },
        {
          "output_type": "stream",
          "name": "stderr",
          "text": [
            "WARNING:absl:You are saving your model as an HDF5 file via `model.save()` or `keras.saving.save_model(model)`. This file format is considered legacy. We recommend using instead the native Keras format, e.g. `model.save('my_model.keras')` or `keras.saving.save_model(model, 'my_model.keras')`. \n"
          ]
        },
        {
          "output_type": "stream",
          "name": "stdout",
          "text": [
            "\b\b\b\b\b\b\b\b\b\b\b\b\b\b\b\b\b\b\b\b\b\b\b\b\b\b\b\b\b\b\b\b\b\b\b\b\b\b\b\b\b\b\b\b\b\b\b\b\b\b\b\b\b\b\b\b\b\b\b\b\b\b\b\b\b\b\b\b\b\b\b\b\b\r\u001b[1m43/43\u001b[0m \u001b[32m━━━━━━━━━━━━━━━━━━━━\u001b[0m\u001b[37m\u001b[0m \u001b[1m11s\u001b[0m 78ms/step - accuracy: 0.7886 - loss: 0.4822 - val_accuracy: 0.9618 - val_loss: 0.4925\n",
            "Epoch 2/200\n",
            "\u001b[1m43/43\u001b[0m \u001b[32m━━━━━━━━━━━━━━━━━━━━\u001b[0m\u001b[37m\u001b[0m \u001b[1m0s\u001b[0m 2ms/step - accuracy: 0.9436 - loss: 0.2786"
          ]
        },
        {
          "output_type": "stream",
          "name": "stderr",
          "text": [
            "WARNING:absl:You are saving your model as an HDF5 file via `model.save()` or `keras.saving.save_model(model)`. This file format is considered legacy. We recommend using instead the native Keras format, e.g. `model.save('my_model.keras')` or `keras.saving.save_model(model, 'my_model.keras')`. \n"
          ]
        },
        {
          "output_type": "stream",
          "name": "stdout",
          "text": [
            "\b\b\b\b\b\b\b\b\b\b\b\b\b\b\b\b\b\b\b\b\b\b\b\b\b\b\b\b\b\b\b\b\b\b\b\b\b\b\b\b\b\b\b\b\b\b\b\b\b\b\b\b\b\b\b\b\b\b\b\b\b\b\b\b\b\b\b\b\b\b\b\b\r\u001b[1m43/43\u001b[0m \u001b[32m━━━━━━━━━━━━━━━━━━━━\u001b[0m\u001b[37m\u001b[0m \u001b[1m0s\u001b[0m 6ms/step - accuracy: 0.9439 - loss: 0.2781 - val_accuracy: 0.9794 - val_loss: 0.3536\n",
            "Epoch 3/200\n",
            "\u001b[1m43/43\u001b[0m \u001b[32m━━━━━━━━━━━━━━━━━━━━\u001b[0m\u001b[37m\u001b[0m \u001b[1m0s\u001b[0m 2ms/step - accuracy: 0.9724 - loss: 0.1815"
          ]
        },
        {
          "output_type": "stream",
          "name": "stderr",
          "text": [
            "WARNING:absl:You are saving your model as an HDF5 file via `model.save()` or `keras.saving.save_model(model)`. This file format is considered legacy. We recommend using instead the native Keras format, e.g. `model.save('my_model.keras')` or `keras.saving.save_model(model, 'my_model.keras')`. \n"
          ]
        },
        {
          "output_type": "stream",
          "name": "stdout",
          "text": [
            "\b\b\b\b\b\b\b\b\b\b\b\b\b\b\b\b\b\b\b\b\b\b\b\b\b\b\b\b\b\b\b\b\b\b\b\b\b\b\b\b\b\b\b\b\b\b\b\b\b\b\b\b\b\b\b\b\b\b\b\b\b\b\b\b\b\b\b\b\b\b\b\b\r\u001b[1m43/43\u001b[0m \u001b[32m━━━━━━━━━━━━━━━━━━━━\u001b[0m\u001b[37m\u001b[0m \u001b[1m0s\u001b[0m 6ms/step - accuracy: 0.9724 - loss: 0.1814 - val_accuracy: 0.9824 - val_loss: 0.2333\n",
            "Epoch 4/200\n",
            "\u001b[1m43/43\u001b[0m \u001b[32m━━━━━━━━━━━━━━━━━━━━\u001b[0m\u001b[37m\u001b[0m \u001b[1m0s\u001b[0m 2ms/step - accuracy: 0.9806 - loss: 0.1376"
          ]
        },
        {
          "output_type": "stream",
          "name": "stderr",
          "text": [
            "WARNING:absl:You are saving your model as an HDF5 file via `model.save()` or `keras.saving.save_model(model)`. This file format is considered legacy. We recommend using instead the native Keras format, e.g. `model.save('my_model.keras')` or `keras.saving.save_model(model, 'my_model.keras')`. \n"
          ]
        },
        {
          "output_type": "stream",
          "name": "stdout",
          "text": [
            "\b\b\b\b\b\b\b\b\b\b\b\b\b\b\b\b\b\b\b\b\b\b\b\b\b\b\b\b\b\b\b\b\b\b\b\b\b\b\b\b\b\b\b\b\b\b\b\b\b\b\b\b\b\b\b\b\b\b\b\b\b\b\b\b\b\b\b\b\b\b\b\b\r\u001b[1m43/43\u001b[0m \u001b[32m━━━━━━━━━━━━━━━━━━━━\u001b[0m\u001b[37m\u001b[0m \u001b[1m0s\u001b[0m 6ms/step - accuracy: 0.9806 - loss: 0.1375 - val_accuracy: 0.9824 - val_loss: 0.1595\n",
            "Epoch 5/200\n",
            "\u001b[1m43/43\u001b[0m \u001b[32m━━━━━━━━━━━━━━━━━━━━\u001b[0m\u001b[37m\u001b[0m \u001b[1m0s\u001b[0m 2ms/step - accuracy: 0.9720 - loss: 0.1123"
          ]
        },
        {
          "output_type": "stream",
          "name": "stderr",
          "text": [
            "WARNING:absl:You are saving your model as an HDF5 file via `model.save()` or `keras.saving.save_model(model)`. This file format is considered legacy. We recommend using instead the native Keras format, e.g. `model.save('my_model.keras')` or `keras.saving.save_model(model, 'my_model.keras')`. \n"
          ]
        },
        {
          "output_type": "stream",
          "name": "stdout",
          "text": [
            "\b\b\b\b\b\b\b\b\b\b\b\b\b\b\b\b\b\b\b\b\b\b\b\b\b\b\b\b\b\b\b\b\b\b\b\b\b\b\b\b\b\b\b\b\b\b\b\b\b\b\b\b\b\b\b\b\b\b\b\b\b\b\b\b\b\b\b\b\b\b\b\b\r\u001b[1m43/43\u001b[0m \u001b[32m━━━━━━━━━━━━━━━━━━━━\u001b[0m\u001b[37m\u001b[0m \u001b[1m0s\u001b[0m 6ms/step - accuracy: 0.9722 - loss: 0.1121 - val_accuracy: 0.9853 - val_loss: 0.0985\n",
            "Epoch 6/200\n",
            "\u001b[1m43/43\u001b[0m \u001b[32m━━━━━━━━━━━━━━━━━━━━\u001b[0m\u001b[37m\u001b[0m \u001b[1m0s\u001b[0m 2ms/step - accuracy: 0.9738 - loss: 0.1170"
          ]
        },
        {
          "output_type": "stream",
          "name": "stderr",
          "text": [
            "WARNING:absl:You are saving your model as an HDF5 file via `model.save()` or `keras.saving.save_model(model)`. This file format is considered legacy. We recommend using instead the native Keras format, e.g. `model.save('my_model.keras')` or `keras.saving.save_model(model, 'my_model.keras')`. \n"
          ]
        },
        {
          "output_type": "stream",
          "name": "stdout",
          "text": [
            "\b\b\b\b\b\b\b\b\b\b\b\b\b\b\b\b\b\b\b\b\b\b\b\b\b\b\b\b\b\b\b\b\b\b\b\b\b\b\b\b\b\b\b\b\b\b\b\b\b\b\b\b\b\b\b\b\b\b\b\b\b\b\b\b\b\b\b\b\b\b\b\b\r\u001b[1m43/43\u001b[0m \u001b[32m━━━━━━━━━━━━━━━━━━━━\u001b[0m\u001b[37m\u001b[0m \u001b[1m0s\u001b[0m 5ms/step - accuracy: 0.9740 - loss: 0.1166 - val_accuracy: 0.9853 - val_loss: 0.0985\n",
            "Epoch 7/200\n",
            "\u001b[1m42/43\u001b[0m \u001b[32m━━━━━━━━━━━━━━━━━━━\u001b[0m\u001b[37m━\u001b[0m \u001b[1m0s\u001b[0m 2ms/step - accuracy: 0.9717 - loss: 0.0989"
          ]
        },
        {
          "output_type": "stream",
          "name": "stderr",
          "text": [
            "WARNING:absl:You are saving your model as an HDF5 file via `model.save()` or `keras.saving.save_model(model)`. This file format is considered legacy. We recommend using instead the native Keras format, e.g. `model.save('my_model.keras')` or `keras.saving.save_model(model, 'my_model.keras')`. \n"
          ]
        },
        {
          "output_type": "stream",
          "name": "stdout",
          "text": [
            "\b\b\b\b\b\b\b\b\b\b\b\b\b\b\b\b\b\b\b\b\b\b\b\b\b\b\b\b\b\b\b\b\b\b\b\b\b\b\b\b\b\b\b\b\b\b\b\b\b\b\b\b\b\b\b\b\b\b\b\b\b\b\b\b\b\b\b\b\b\b\b\b\r\u001b[1m43/43\u001b[0m \u001b[32m━━━━━━━━━━━━━━━━━━━━\u001b[0m\u001b[37m\u001b[0m \u001b[1m0s\u001b[0m 6ms/step - accuracy: 0.9719 - loss: 0.0984 - val_accuracy: 0.9853 - val_loss: 0.0784\n",
            "Epoch 8/200\n",
            "\u001b[1m41/43\u001b[0m \u001b[32m━━━━━━━━━━━━━━━━━━━\u001b[0m\u001b[37m━\u001b[0m \u001b[1m0s\u001b[0m 3ms/step - accuracy: 0.9782 - loss: 0.0831"
          ]
        },
        {
          "output_type": "stream",
          "name": "stderr",
          "text": [
            "WARNING:absl:You are saving your model as an HDF5 file via `model.save()` or `keras.saving.save_model(model)`. This file format is considered legacy. We recommend using instead the native Keras format, e.g. `model.save('my_model.keras')` or `keras.saving.save_model(model, 'my_model.keras')`. \n"
          ]
        },
        {
          "output_type": "stream",
          "name": "stdout",
          "text": [
            "\b\b\b\b\b\b\b\b\b\b\b\b\b\b\b\b\b\b\b\b\b\b\b\b\b\b\b\b\b\b\b\b\b\b\b\b\b\b\b\b\b\b\b\b\b\b\b\b\b\b\b\b\b\b\b\b\b\b\b\b\b\b\b\b\b\b\b\b\b\b\b\b\r\u001b[1m43/43\u001b[0m \u001b[32m━━━━━━━━━━━━━━━━━━━━\u001b[0m\u001b[37m\u001b[0m \u001b[1m0s\u001b[0m 6ms/step - accuracy: 0.9783 - loss: 0.0828 - val_accuracy: 0.9853 - val_loss: 0.0650\n",
            "Epoch 9/200\n",
            "\u001b[1m42/43\u001b[0m \u001b[32m━━━━━━━━━━━━━━━━━━━\u001b[0m\u001b[37m━\u001b[0m \u001b[1m0s\u001b[0m 2ms/step - accuracy: 0.9897 - loss: 0.0618"
          ]
        },
        {
          "output_type": "stream",
          "name": "stderr",
          "text": [
            "WARNING:absl:You are saving your model as an HDF5 file via `model.save()` or `keras.saving.save_model(model)`. This file format is considered legacy. We recommend using instead the native Keras format, e.g. `model.save('my_model.keras')` or `keras.saving.save_model(model, 'my_model.keras')`. \n"
          ]
        },
        {
          "output_type": "stream",
          "name": "stdout",
          "text": [
            "\b\b\b\b\b\b\b\b\b\b\b\b\b\b\b\b\b\b\b\b\b\b\b\b\b\b\b\b\b\b\b\b\b\b\b\b\b\b\b\b\b\b\b\b\b\b\b\b\b\b\b\b\b\b\b\b\b\b\b\b\b\b\b\b\b\b\b\b\b\b\b\b\r\u001b[1m43/43\u001b[0m \u001b[32m━━━━━━━━━━━━━━━━━━━━\u001b[0m\u001b[37m\u001b[0m \u001b[1m0s\u001b[0m 6ms/step - accuracy: 0.9895 - loss: 0.0622 - val_accuracy: 0.9824 - val_loss: 0.0619\n",
            "Epoch 10/200\n",
            "\u001b[1m42/43\u001b[0m \u001b[32m━━━━━━━━━━━━━━━━━━━\u001b[0m\u001b[37m━\u001b[0m \u001b[1m0s\u001b[0m 2ms/step - accuracy: 0.9814 - loss: 0.0715"
          ]
        },
        {
          "output_type": "stream",
          "name": "stderr",
          "text": [
            "WARNING:absl:You are saving your model as an HDF5 file via `model.save()` or `keras.saving.save_model(model)`. This file format is considered legacy. We recommend using instead the native Keras format, e.g. `model.save('my_model.keras')` or `keras.saving.save_model(model, 'my_model.keras')`. \n"
          ]
        },
        {
          "output_type": "stream",
          "name": "stdout",
          "text": [
            "\b\b\b\b\b\b\b\b\b\b\b\b\b\b\b\b\b\b\b\b\b\b\b\b\b\b\b\b\b\b\b\b\b\b\b\b\b\b\b\b\b\b\b\b\b\b\b\b\b\b\b\b\b\b\b\b\b\b\b\b\b\b\b\b\b\b\b\b\b\b\b\b\r\u001b[1m43/43\u001b[0m \u001b[32m━━━━━━━━━━━━━━━━━━━━\u001b[0m\u001b[37m\u001b[0m \u001b[1m0s\u001b[0m 8ms/step - accuracy: 0.9815 - loss: 0.0713 - val_accuracy: 0.9824 - val_loss: 0.0436\n",
            "Epoch 11/200\n",
            "\u001b[1m43/43\u001b[0m \u001b[32m━━━━━━━━━━━━━━━━━━━━\u001b[0m\u001b[37m\u001b[0m \u001b[1m0s\u001b[0m 2ms/step - accuracy: 0.9917 - loss: 0.0463"
          ]
        },
        {
          "output_type": "stream",
          "name": "stderr",
          "text": [
            "WARNING:absl:You are saving your model as an HDF5 file via `model.save()` or `keras.saving.save_model(model)`. This file format is considered legacy. We recommend using instead the native Keras format, e.g. `model.save('my_model.keras')` or `keras.saving.save_model(model, 'my_model.keras')`. \n"
          ]
        },
        {
          "output_type": "stream",
          "name": "stdout",
          "text": [
            "\b\b\b\b\b\b\b\b\b\b\b\b\b\b\b\b\b\b\b\b\b\b\b\b\b\b\b\b\b\b\b\b\b\b\b\b\b\b\b\b\b\b\b\b\b\b\b\b\b\b\b\b\b\b\b\b\b\b\b\b\b\b\b\b\b\b\b\b\b\b\b\b\r\u001b[1m43/43\u001b[0m \u001b[32m━━━━━━━━━━━━━━━━━━━━\u001b[0m\u001b[37m\u001b[0m \u001b[1m0s\u001b[0m 5ms/step - accuracy: 0.9916 - loss: 0.0466 - val_accuracy: 0.9882 - val_loss: 0.0379\n",
            "Epoch 12/200\n",
            "\u001b[1m43/43\u001b[0m \u001b[32m━━━━━━━━━━━━━━━━━━━━\u001b[0m\u001b[37m\u001b[0m \u001b[1m0s\u001b[0m 2ms/step - accuracy: 0.9802 - loss: 0.0685"
          ]
        },
        {
          "output_type": "stream",
          "name": "stderr",
          "text": [
            "WARNING:absl:You are saving your model as an HDF5 file via `model.save()` or `keras.saving.save_model(model)`. This file format is considered legacy. We recommend using instead the native Keras format, e.g. `model.save('my_model.keras')` or `keras.saving.save_model(model, 'my_model.keras')`. \n"
          ]
        },
        {
          "output_type": "stream",
          "name": "stdout",
          "text": [
            "\b\b\b\b\b\b\b\b\b\b\b\b\b\b\b\b\b\b\b\b\b\b\b\b\b\b\b\b\b\b\b\b\b\b\b\b\b\b\b\b\b\b\b\b\b\b\b\b\b\b\b\b\b\b\b\b\b\b\b\b\b\b\b\b\b\b\b\b\b\b\b\b\r\u001b[1m43/43\u001b[0m \u001b[32m━━━━━━━━━━━━━━━━━━━━\u001b[0m\u001b[37m\u001b[0m \u001b[1m0s\u001b[0m 5ms/step - accuracy: 0.9802 - loss: 0.0684 - val_accuracy: 0.9824 - val_loss: 0.0354\n",
            "Epoch 13/200\n",
            "\u001b[1m42/43\u001b[0m \u001b[32m━━━━━━━━━━━━━━━━━━━\u001b[0m\u001b[37m━\u001b[0m \u001b[1m0s\u001b[0m 2ms/step - accuracy: 0.9866 - loss: 0.0587"
          ]
        },
        {
          "output_type": "stream",
          "name": "stderr",
          "text": [
            "WARNING:absl:You are saving your model as an HDF5 file via `model.save()` or `keras.saving.save_model(model)`. This file format is considered legacy. We recommend using instead the native Keras format, e.g. `model.save('my_model.keras')` or `keras.saving.save_model(model, 'my_model.keras')`. \n"
          ]
        },
        {
          "output_type": "stream",
          "name": "stdout",
          "text": [
            "\b\b\b\b\b\b\b\b\b\b\b\b\b\b\b\b\b\b\b\b\b\b\b\b\b\b\b\b\b\b\b\b\b\b\b\b\b\b\b\b\b\b\b\b\b\b\b\b\b\b\b\b\b\b\b\b\b\b\b\b\b\b\b\b\b\b\b\b\b\b\b\b\r\u001b[1m43/43\u001b[0m \u001b[32m━━━━━━━━━━━━━━━━━━━━\u001b[0m\u001b[37m\u001b[0m \u001b[1m0s\u001b[0m 5ms/step - accuracy: 0.9866 - loss: 0.0583 - val_accuracy: 0.9824 - val_loss: 0.0332\n",
            "Epoch 14/200\n",
            "\u001b[1m38/43\u001b[0m \u001b[32m━━━━━━━━━━━━━━━━━\u001b[0m\u001b[37m━━━\u001b[0m \u001b[1m0s\u001b[0m 3ms/step - accuracy: 0.9809 - loss: 0.0499"
          ]
        },
        {
          "output_type": "stream",
          "name": "stderr",
          "text": [
            "WARNING:absl:You are saving your model as an HDF5 file via `model.save()` or `keras.saving.save_model(model)`. This file format is considered legacy. We recommend using instead the native Keras format, e.g. `model.save('my_model.keras')` or `keras.saving.save_model(model, 'my_model.keras')`. \n"
          ]
        },
        {
          "output_type": "stream",
          "name": "stdout",
          "text": [
            "\b\b\b\b\b\b\b\b\b\b\b\b\b\b\b\b\b\b\b\b\b\b\b\b\b\b\b\b\b\b\b\b\b\b\b\b\b\b\b\b\b\b\b\b\b\b\b\b\b\b\b\b\b\b\b\b\b\b\b\b\b\b\b\b\b\b\b\b\b\b\b\b\r\u001b[1m43/43\u001b[0m \u001b[32m━━━━━━━━━━━━━━━━━━━━\u001b[0m\u001b[37m\u001b[0m \u001b[1m0s\u001b[0m 6ms/step - accuracy: 0.9809 - loss: 0.0498 - val_accuracy: 0.9853 - val_loss: 0.0307\n",
            "Epoch 15/200\n",
            "\u001b[1m43/43\u001b[0m \u001b[32m━━━━━━━━━━━━━━━━━━━━\u001b[0m\u001b[37m\u001b[0m \u001b[1m0s\u001b[0m 4ms/step - accuracy: 0.9823 - loss: 0.0461 - val_accuracy: 0.9824 - val_loss: 0.0325\n",
            "Epoch 16/200\n",
            "\u001b[1m43/43\u001b[0m \u001b[32m━━━━━━━━━━━━━━━━━━━━\u001b[0m\u001b[37m\u001b[0m \u001b[1m0s\u001b[0m 4ms/step - accuracy: 0.9842 - loss: 0.0459 - val_accuracy: 0.9853 - val_loss: 0.0390\n",
            "Epoch 17/200\n",
            "\u001b[1m43/43\u001b[0m \u001b[32m━━━━━━━━━━━━━━━━━━━━\u001b[0m\u001b[37m\u001b[0m \u001b[1m0s\u001b[0m 4ms/step - accuracy: 0.9802 - loss: 0.0423 - val_accuracy: 0.9824 - val_loss: 0.0339\n",
            "Epoch 18/200\n",
            "\u001b[1m43/43\u001b[0m \u001b[32m━━━━━━━━━━━━━━━━━━━━\u001b[0m\u001b[37m\u001b[0m \u001b[1m0s\u001b[0m 4ms/step - accuracy: 0.9831 - loss: 0.0447 - val_accuracy: 0.9824 - val_loss: 0.0327\n",
            "Epoch 19/200\n",
            "\u001b[1m43/43\u001b[0m \u001b[32m━━━━━━━━━━━━━━━━━━━━\u001b[0m\u001b[37m\u001b[0m \u001b[1m0s\u001b[0m 5ms/step - accuracy: 0.9875 - loss: 0.0412 - val_accuracy: 0.9824 - val_loss: 0.0309\n",
            "Epoch 20/200\n",
            "\u001b[1m43/43\u001b[0m \u001b[32m━━━━━━━━━━━━━━━━━━━━\u001b[0m\u001b[37m\u001b[0m \u001b[1m0s\u001b[0m 2ms/step - accuracy: 0.9825 - loss: 0.0448"
          ]
        },
        {
          "output_type": "stream",
          "name": "stderr",
          "text": [
            "WARNING:absl:You are saving your model as an HDF5 file via `model.save()` or `keras.saving.save_model(model)`. This file format is considered legacy. We recommend using instead the native Keras format, e.g. `model.save('my_model.keras')` or `keras.saving.save_model(model, 'my_model.keras')`. \n"
          ]
        },
        {
          "output_type": "stream",
          "name": "stdout",
          "text": [
            "\b\b\b\b\b\b\b\b\b\b\b\b\b\b\b\b\b\b\b\b\b\b\b\b\b\b\b\b\b\b\b\b\b\b\b\b\b\b\b\b\b\b\b\b\b\b\b\b\b\b\b\b\b\b\b\b\b\b\b\b\b\b\b\b\b\b\b\b\b\b\b\b\r\u001b[1m43/43\u001b[0m \u001b[32m━━━━━━━━━━━━━━━━━━━━\u001b[0m\u001b[37m\u001b[0m \u001b[1m0s\u001b[0m 6ms/step - accuracy: 0.9825 - loss: 0.0447 - val_accuracy: 0.9824 - val_loss: 0.0283\n",
            "Epoch 21/200\n",
            "\u001b[1m43/43\u001b[0m \u001b[32m━━━━━━━━━━━━━━━━━━━━\u001b[0m\u001b[37m\u001b[0m \u001b[1m0s\u001b[0m 5ms/step - accuracy: 0.9861 - loss: 0.0350 - val_accuracy: 0.9853 - val_loss: 0.0359\n",
            "Epoch 22/200\n",
            "\u001b[1m43/43\u001b[0m \u001b[32m━━━━━━━━━━━━━━━━━━━━\u001b[0m\u001b[37m\u001b[0m \u001b[1m0s\u001b[0m 4ms/step - accuracy: 0.9842 - loss: 0.0363 - val_accuracy: 0.9824 - val_loss: 0.0343\n",
            "Epoch 23/200\n",
            "\u001b[1m43/43\u001b[0m \u001b[32m━━━━━━━━━━━━━━━━━━━━\u001b[0m\u001b[37m\u001b[0m \u001b[1m0s\u001b[0m 5ms/step - accuracy: 0.9830 - loss: 0.0399 - val_accuracy: 0.9794 - val_loss: 0.0325\n",
            "Epoch 24/200\n",
            "\u001b[1m43/43\u001b[0m \u001b[32m━━━━━━━━━━━━━━━━━━━━\u001b[0m\u001b[37m\u001b[0m \u001b[1m0s\u001b[0m 4ms/step - accuracy: 0.9881 - loss: 0.0373 - val_accuracy: 0.9794 - val_loss: 0.0316\n",
            "Epoch 25/200\n",
            "\u001b[1m43/43\u001b[0m \u001b[32m━━━━━━━━━━━━━━━━━━━━\u001b[0m\u001b[37m\u001b[0m \u001b[1m0s\u001b[0m 6ms/step - accuracy: 0.9841 - loss: 0.0368 - val_accuracy: 0.9853 - val_loss: 0.0359\n",
            "Epoch 26/200\n",
            "\u001b[1m43/43\u001b[0m \u001b[32m━━━━━━━━━━━━━━━━━━━━\u001b[0m\u001b[37m\u001b[0m \u001b[1m0s\u001b[0m 6ms/step - accuracy: 0.9857 - loss: 0.0324 - val_accuracy: 0.9882 - val_loss: 0.0314\n",
            "Epoch 27/200\n",
            "\u001b[1m30/43\u001b[0m \u001b[32m━━━━━━━━━━━━━\u001b[0m\u001b[37m━━━━━━━\u001b[0m \u001b[1m0s\u001b[0m 4ms/step - accuracy: 0.9922 - loss: 0.0222"
          ]
        },
        {
          "output_type": "stream",
          "name": "stderr",
          "text": [
            "WARNING:absl:You are saving your model as an HDF5 file via `model.save()` or `keras.saving.save_model(model)`. This file format is considered legacy. We recommend using instead the native Keras format, e.g. `model.save('my_model.keras')` or `keras.saving.save_model(model, 'my_model.keras')`. \n"
          ]
        },
        {
          "output_type": "stream",
          "name": "stdout",
          "text": [
            "\b\b\b\b\b\b\b\b\b\b\b\b\b\b\b\b\b\b\b\b\b\b\b\b\b\b\b\b\b\b\b\b\b\b\b\b\b\b\b\b\b\b\b\b\b\b\b\b\b\b\b\b\b\b\b\b\b\b\b\b\b\b\b\b\b\b\b\b\b\b\b\b\r\u001b[1m43/43\u001b[0m \u001b[32m━━━━━━━━━━━━━━━━━━━━\u001b[0m\u001b[37m\u001b[0m \u001b[1m0s\u001b[0m 7ms/step - accuracy: 0.9901 - loss: 0.0261 - val_accuracy: 0.9853 - val_loss: 0.0272\n",
            "Epoch 28/200\n",
            "\u001b[1m43/43\u001b[0m \u001b[32m━━━━━━━━━━━━━━━━━━━━\u001b[0m\u001b[37m\u001b[0m \u001b[1m1s\u001b[0m 7ms/step - accuracy: 0.9872 - loss: 0.0297 - val_accuracy: 0.9882 - val_loss: 0.0334\n",
            "Epoch 29/200\n",
            "\u001b[1m40/43\u001b[0m \u001b[32m━━━━━━━━━━━━━━━━━━\u001b[0m\u001b[37m━━\u001b[0m \u001b[1m0s\u001b[0m 3ms/step - accuracy: 0.9875 - loss: 0.0300"
          ]
        },
        {
          "output_type": "stream",
          "name": "stderr",
          "text": [
            "WARNING:absl:You are saving your model as an HDF5 file via `model.save()` or `keras.saving.save_model(model)`. This file format is considered legacy. We recommend using instead the native Keras format, e.g. `model.save('my_model.keras')` or `keras.saving.save_model(model, 'my_model.keras')`. \n"
          ]
        },
        {
          "output_type": "stream",
          "name": "stdout",
          "text": [
            "\b\b\b\b\b\b\b\b\b\b\b\b\b\b\b\b\b\b\b\b\b\b\b\b\b\b\b\b\b\b\b\b\b\b\b\b\b\b\b\b\b\b\b\b\b\b\b\b\b\b\b\b\b\b\b\b\b\b\b\b\b\b\b\b\b\b\b\b\b\b\b\b\r\u001b[1m43/43\u001b[0m \u001b[32m━━━━━━━━━━━━━━━━━━━━\u001b[0m\u001b[37m\u001b[0m \u001b[1m1s\u001b[0m 6ms/step - accuracy: 0.9875 - loss: 0.0299 - val_accuracy: 0.9853 - val_loss: 0.0263\n",
            "Epoch 30/200\n",
            "\u001b[1m43/43\u001b[0m \u001b[32m━━━━━━━━━━━━━━━━━━━━\u001b[0m\u001b[37m\u001b[0m \u001b[1m0s\u001b[0m 4ms/step - accuracy: 0.9817 - loss: 0.0450 - val_accuracy: 0.9824 - val_loss: 0.0508\n",
            "Epoch 31/200\n",
            "\u001b[1m43/43\u001b[0m \u001b[32m━━━━━━━━━━━━━━━━━━━━\u001b[0m\u001b[37m\u001b[0m \u001b[1m0s\u001b[0m 5ms/step - accuracy: 0.9866 - loss: 0.0301 - val_accuracy: 0.9882 - val_loss: 0.0276\n",
            "Epoch 32/200\n",
            "\u001b[1m42/43\u001b[0m \u001b[32m━━━━━━━━━━━━━━━━━━━\u001b[0m\u001b[37m━\u001b[0m \u001b[1m0s\u001b[0m 3ms/step - accuracy: 0.9915 - loss: 0.0203"
          ]
        },
        {
          "output_type": "stream",
          "name": "stderr",
          "text": [
            "WARNING:absl:You are saving your model as an HDF5 file via `model.save()` or `keras.saving.save_model(model)`. This file format is considered legacy. We recommend using instead the native Keras format, e.g. `model.save('my_model.keras')` or `keras.saving.save_model(model, 'my_model.keras')`. \n"
          ]
        },
        {
          "output_type": "stream",
          "name": "stdout",
          "text": [
            "\b\b\b\b\b\b\b\b\b\b\b\b\b\b\b\b\b\b\b\b\b\b\b\b\b\b\b\b\b\b\b\b\b\b\b\b\b\b\b\b\b\b\b\b\b\b\b\b\b\b\b\b\b\b\b\b\b\b\b\b\b\b\b\b\b\b\b\b\b\b\b\b\r\u001b[1m43/43\u001b[0m \u001b[32m━━━━━━━━━━━━━━━━━━━━\u001b[0m\u001b[37m\u001b[0m \u001b[1m0s\u001b[0m 6ms/step - accuracy: 0.9913 - loss: 0.0207 - val_accuracy: 0.9853 - val_loss: 0.0233\n",
            "Epoch 33/200\n",
            "\u001b[1m43/43\u001b[0m \u001b[32m━━━━━━━━━━━━━━━━━━━━\u001b[0m\u001b[37m\u001b[0m \u001b[1m0s\u001b[0m 5ms/step - accuracy: 0.9884 - loss: 0.0322 - val_accuracy: 0.9882 - val_loss: 0.0254\n",
            "Epoch 34/200\n",
            "\u001b[1m43/43\u001b[0m \u001b[32m━━━━━━━━━━━━━━━━━━━━\u001b[0m\u001b[37m\u001b[0m \u001b[1m0s\u001b[0m 4ms/step - accuracy: 0.9820 - loss: 0.0341 - val_accuracy: 0.9853 - val_loss: 0.0248\n",
            "Epoch 35/200\n",
            "\u001b[1m43/43\u001b[0m \u001b[32m━━━━━━━━━━━━━━━━━━━━\u001b[0m\u001b[37m\u001b[0m \u001b[1m0s\u001b[0m 5ms/step - accuracy: 0.9904 - loss: 0.0265 - val_accuracy: 0.9882 - val_loss: 0.0269\n",
            "Epoch 36/200\n",
            "\u001b[1m43/43\u001b[0m \u001b[32m━━━━━━━━━━━━━━━━━━━━\u001b[0m\u001b[37m\u001b[0m \u001b[1m0s\u001b[0m 5ms/step - accuracy: 0.9924 - loss: 0.0245 - val_accuracy: 0.9853 - val_loss: 0.0269\n",
            "Epoch 37/200\n",
            "\u001b[1m43/43\u001b[0m \u001b[32m━━━━━━━━━━━━━━━━━━━━\u001b[0m\u001b[37m\u001b[0m \u001b[1m0s\u001b[0m 5ms/step - accuracy: 0.9837 - loss: 0.0359 - val_accuracy: 0.9853 - val_loss: 0.0328\n",
            "Epoch 38/200\n",
            "\u001b[1m43/43\u001b[0m \u001b[32m━━━━━━━━━━━━━━━━━━━━\u001b[0m\u001b[37m\u001b[0m \u001b[1m0s\u001b[0m 5ms/step - accuracy: 0.9885 - loss: 0.0272 - val_accuracy: 0.9794 - val_loss: 0.0242\n",
            "Epoch 39/200\n",
            "\u001b[1m43/43\u001b[0m \u001b[32m━━━━━━━━━━━━━━━━━━━━\u001b[0m\u001b[37m\u001b[0m \u001b[1m0s\u001b[0m 5ms/step - accuracy: 0.9873 - loss: 0.0299 - val_accuracy: 0.9853 - val_loss: 0.0255\n",
            "Epoch 40/200\n",
            "\u001b[1m42/43\u001b[0m \u001b[32m━━━━━━━━━━━━━━━━━━━\u001b[0m\u001b[37m━\u001b[0m \u001b[1m0s\u001b[0m 2ms/step - accuracy: 0.9859 - loss: 0.0295"
          ]
        },
        {
          "output_type": "stream",
          "name": "stderr",
          "text": [
            "WARNING:absl:You are saving your model as an HDF5 file via `model.save()` or `keras.saving.save_model(model)`. This file format is considered legacy. We recommend using instead the native Keras format, e.g. `model.save('my_model.keras')` or `keras.saving.save_model(model, 'my_model.keras')`. \n"
          ]
        },
        {
          "output_type": "stream",
          "name": "stdout",
          "text": [
            "\b\b\b\b\b\b\b\b\b\b\b\b\b\b\b\b\b\b\b\b\b\b\b\b\b\b\b\b\b\b\b\b\b\b\b\b\b\b\b\b\b\b\b\b\b\b\b\b\b\b\b\b\b\b\b\b\b\b\b\b\b\b\b\b\b\b\b\b\b\b\b\b\r\u001b[1m43/43\u001b[0m \u001b[32m━━━━━━━━━━━━━━━━━━━━\u001b[0m\u001b[37m\u001b[0m \u001b[1m0s\u001b[0m 6ms/step - accuracy: 0.9859 - loss: 0.0296 - val_accuracy: 0.9853 - val_loss: 0.0228\n",
            "Epoch 41/200\n",
            "\u001b[1m43/43\u001b[0m \u001b[32m━━━━━━━━━━━━━━━━━━━━\u001b[0m\u001b[37m\u001b[0m \u001b[1m0s\u001b[0m 4ms/step - accuracy: 0.9908 - loss: 0.0216 - val_accuracy: 0.9824 - val_loss: 0.0231\n",
            "Epoch 42/200\n",
            "\u001b[1m43/43\u001b[0m \u001b[32m━━━━━━━━━━━━━━━━━━━━\u001b[0m\u001b[37m\u001b[0m \u001b[1m0s\u001b[0m 4ms/step - accuracy: 0.9901 - loss: 0.0315 - val_accuracy: 0.9853 - val_loss: 0.0254\n",
            "Epoch 43/200\n",
            "\u001b[1m43/43\u001b[0m \u001b[32m━━━━━━━━━━━━━━━━━━━━\u001b[0m\u001b[37m\u001b[0m \u001b[1m0s\u001b[0m 5ms/step - accuracy: 0.9910 - loss: 0.0230 - val_accuracy: 0.9824 - val_loss: 0.0231\n",
            "Epoch 44/200\n",
            "\u001b[1m43/43\u001b[0m \u001b[32m━━━━━━━━━━━━━━━━━━━━\u001b[0m\u001b[37m\u001b[0m \u001b[1m0s\u001b[0m 4ms/step - accuracy: 0.9852 - loss: 0.0355 - val_accuracy: 0.9824 - val_loss: 0.0232\n",
            "Epoch 45/200\n",
            "\u001b[1m43/43\u001b[0m \u001b[32m━━━━━━━━━━━━━━━━━━━━\u001b[0m\u001b[37m\u001b[0m \u001b[1m0s\u001b[0m 5ms/step - accuracy: 0.9882 - loss: 0.0243 - val_accuracy: 0.9853 - val_loss: 0.0238\n",
            "Epoch 46/200\n",
            "\u001b[1m43/43\u001b[0m \u001b[32m━━━━━━━━━━━━━━━━━━━━\u001b[0m\u001b[37m\u001b[0m \u001b[1m0s\u001b[0m 4ms/step - accuracy: 0.9912 - loss: 0.0320 - val_accuracy: 0.9853 - val_loss: 0.0259\n",
            "Epoch 47/200\n",
            "\u001b[1m43/43\u001b[0m \u001b[32m━━━━━━━━━━━━━━━━━━━━\u001b[0m\u001b[37m\u001b[0m \u001b[1m0s\u001b[0m 5ms/step - accuracy: 0.9910 - loss: 0.0230 - val_accuracy: 0.9794 - val_loss: 0.0249\n",
            "Epoch 48/200\n",
            "\u001b[1m43/43\u001b[0m \u001b[32m━━━━━━━━━━━━━━━━━━━━\u001b[0m\u001b[37m\u001b[0m \u001b[1m0s\u001b[0m 4ms/step - accuracy: 0.9869 - loss: 0.0344 - val_accuracy: 0.9853 - val_loss: 0.0240\n",
            "Epoch 49/200\n",
            "\u001b[1m43/43\u001b[0m \u001b[32m━━━━━━━━━━━━━━━━━━━━\u001b[0m\u001b[37m\u001b[0m \u001b[1m0s\u001b[0m 5ms/step - accuracy: 0.9900 - loss: 0.0224 - val_accuracy: 0.9824 - val_loss: 0.0263\n",
            "Epoch 50/200\n",
            "\u001b[1m43/43\u001b[0m \u001b[32m━━━━━━━━━━━━━━━━━━━━\u001b[0m\u001b[37m\u001b[0m \u001b[1m0s\u001b[0m 4ms/step - accuracy: 0.9905 - loss: 0.0215 - val_accuracy: 0.9853 - val_loss: 0.0250\n",
            "\u001b[1m14/14\u001b[0m \u001b[32m━━━━━━━━━━━━━━━━━━━━\u001b[0m\u001b[37m\u001b[0m \u001b[1m1s\u001b[0m 27ms/step\n",
            "Improved Neural Network Classification Report:\n",
            "              precision    recall  f1-score   support\n",
            "\n",
            "       False       1.00      0.99      0.99       415\n",
            "        True       0.64      1.00      0.78         9\n",
            "\n",
            "    accuracy                           0.99       424\n",
            "   macro avg       0.82      0.99      0.89       424\n",
            "weighted avg       0.99      0.99      0.99       424\n",
            "\n",
            "Improved Neural Network Accuracy: 0.9882075471698113\n"
          ]
        }
      ]
    },
    {
      "cell_type": "code",
      "source": [],
      "metadata": {
        "id": "P22kHCcYMU1G"
      },
      "execution_count": null,
      "outputs": []
    }
  ]
}